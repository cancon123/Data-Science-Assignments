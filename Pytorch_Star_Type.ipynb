{
 "cells": [
  {
   "cell_type": "markdown",
   "metadata": {},
   "source": [
    "# Neural Networks for Classification\n",
    "Here we will provide a code snippet that classifies a dataset of handwritten digits. The layout of the code will provide you with insights and by adapting it, you will solve a classification problem in the next exercise."
   ]
  },
  {
   "cell_type": "code",
   "execution_count": 1,
   "metadata": {},
   "outputs": [],
   "source": [
    "import torch\n",
    "import torch.nn as nn\n",
    "import torch.nn.functional as F\n",
    "import torch.optim as optim\n",
    "from torchvision import datasets, transforms\n",
    "import numpy as np\n",
    "import matplotlib.pyplot as plt\n",
    "import pandas as pd\n",
    "from sklearn.model_selection import train_test_split"
   ]
  },
  {
   "cell_type": "code",
   "execution_count": 2,
   "metadata": {},
   "outputs": [],
   "source": [
    "# here we just create a directory to store the dataset in\n",
    "!mkdir mnist"
   ]
  },
  {
   "cell_type": "markdown",
   "metadata": {},
   "source": [
    "First, we will download the dataset and put it into datastructures provided by Pytorch. The transforms used here are specific to the dataset and transform the images into a `torch.tensor`, which is the datastructure used by pytorch (for an in depth tutorial on how Pytorch works and can be used for custom problems you can visit the [tutorials](https://pytorch.org/tutorials/)). In a second step the data points are normalized, which is a usual preprocessing step when training neural networks."
   ]
  },
  {
   "cell_type": "code",
   "execution_count": 3,
   "metadata": {},
   "outputs": [
    {
     "name": "stdout",
     "output_type": "stream",
     "text": [
      "Downloading http://yann.lecun.com/exdb/mnist/train-images-idx3-ubyte.gz\n"
     ]
    },
    {
     "name": "stderr",
     "output_type": "stream",
     "text": [
      "1.3%"
     ]
    },
    {
     "name": "stdout",
     "output_type": "stream",
     "text": [
      "Downloading http://yann.lecun.com/exdb/mnist/train-images-idx3-ubyte.gz to ./mnist/MNIST\\raw\\train-images-idx3-ubyte.gz\n"
     ]
    },
    {
     "name": "stderr",
     "output_type": "stream",
     "text": [
      "100.0%\n"
     ]
    },
    {
     "name": "stdout",
     "output_type": "stream",
     "text": [
      "Extracting ./mnist/MNIST\\raw\\train-images-idx3-ubyte.gz to ./mnist/MNIST\\raw\n",
      "\n",
      "Downloading http://yann.lecun.com/exdb/mnist/train-labels-idx1-ubyte.gz\n",
      "Downloading http://yann.lecun.com/exdb/mnist/train-labels-idx1-ubyte.gz to ./mnist/MNIST\\raw\\train-labels-idx1-ubyte.gz\n"
     ]
    },
    {
     "name": "stderr",
     "output_type": "stream",
     "text": [
      "100.0%\n"
     ]
    },
    {
     "name": "stdout",
     "output_type": "stream",
     "text": [
      "Extracting ./mnist/MNIST\\raw\\train-labels-idx1-ubyte.gz to ./mnist/MNIST\\raw\n",
      "\n",
      "Downloading http://yann.lecun.com/exdb/mnist/t10k-images-idx3-ubyte.gz\n",
      "Downloading http://yann.lecun.com/exdb/mnist/t10k-images-idx3-ubyte.gz to ./mnist/MNIST\\raw\\t10k-images-idx3-ubyte.gz\n"
     ]
    },
    {
     "name": "stderr",
     "output_type": "stream",
     "text": [
      "21.9%\n"
     ]
    },
    {
     "name": "stdout",
     "output_type": "stream",
     "text": [
      "\n"
     ]
    },
    {
     "ename": "KeyboardInterrupt",
     "evalue": "",
     "output_type": "error",
     "traceback": [
      "\u001b[1;31m---------------------------------------------------------------------------\u001b[0m",
      "\u001b[1;31mKeyboardInterrupt\u001b[0m                         Traceback (most recent call last)",
      "\u001b[1;32m<ipython-input-3-dae6eba9b9b1>\u001b[0m in \u001b[0;36m<module>\u001b[1;34m\u001b[0m\n\u001b[0;32m      3\u001b[0m     \u001b[0mtransforms\u001b[0m\u001b[1;33m.\u001b[0m\u001b[0mNormalize\u001b[0m\u001b[1;33m(\u001b[0m\u001b[1;33m(\u001b[0m\u001b[1;36m0.1307\u001b[0m\u001b[1;33m,\u001b[0m\u001b[1;33m)\u001b[0m\u001b[1;33m,\u001b[0m \u001b[1;33m(\u001b[0m\u001b[1;36m0.3081\u001b[0m\u001b[1;33m,\u001b[0m\u001b[1;33m)\u001b[0m\u001b[1;33m)\u001b[0m\u001b[1;33m\u001b[0m\u001b[1;33m\u001b[0m\u001b[0m\n\u001b[0;32m      4\u001b[0m     ])\n\u001b[1;32m----> 5\u001b[1;33m dataset_train = datasets.MNIST('./mnist/', train=True, download=True,\n\u001b[0m\u001b[0;32m      6\u001b[0m                    transform=transform)\n\u001b[0;32m      7\u001b[0m dataset_test = datasets.MNIST('./mnist/', train=False,\n",
      "\u001b[1;32mc:\\users\\ardad\\appdata\\local\\programs\\python\\python39\\lib\\site-packages\\torchvision\\datasets\\mnist.py\u001b[0m in \u001b[0;36m__init__\u001b[1;34m(self, root, train, transform, target_transform, download)\u001b[0m\n\u001b[0;32m     97\u001b[0m \u001b[1;33m\u001b[0m\u001b[0m\n\u001b[0;32m     98\u001b[0m         \u001b[1;32mif\u001b[0m \u001b[0mdownload\u001b[0m\u001b[1;33m:\u001b[0m\u001b[1;33m\u001b[0m\u001b[1;33m\u001b[0m\u001b[0m\n\u001b[1;32m---> 99\u001b[1;33m             \u001b[0mself\u001b[0m\u001b[1;33m.\u001b[0m\u001b[0mdownload\u001b[0m\u001b[1;33m(\u001b[0m\u001b[1;33m)\u001b[0m\u001b[1;33m\u001b[0m\u001b[1;33m\u001b[0m\u001b[0m\n\u001b[0m\u001b[0;32m    100\u001b[0m \u001b[1;33m\u001b[0m\u001b[0m\n\u001b[0;32m    101\u001b[0m         \u001b[1;32mif\u001b[0m \u001b[1;32mnot\u001b[0m \u001b[0mself\u001b[0m\u001b[1;33m.\u001b[0m\u001b[0m_check_exists\u001b[0m\u001b[1;33m(\u001b[0m\u001b[1;33m)\u001b[0m\u001b[1;33m:\u001b[0m\u001b[1;33m\u001b[0m\u001b[1;33m\u001b[0m\u001b[0m\n",
      "\u001b[1;32mc:\\users\\ardad\\appdata\\local\\programs\\python\\python39\\lib\\site-packages\\torchvision\\datasets\\mnist.py\u001b[0m in \u001b[0;36mdownload\u001b[1;34m(self)\u001b[0m\n\u001b[0;32m    185\u001b[0m                 \u001b[1;32mtry\u001b[0m\u001b[1;33m:\u001b[0m\u001b[1;33m\u001b[0m\u001b[1;33m\u001b[0m\u001b[0m\n\u001b[0;32m    186\u001b[0m                     \u001b[0mprint\u001b[0m\u001b[1;33m(\u001b[0m\u001b[1;34mf\"Downloading {url}\"\u001b[0m\u001b[1;33m)\u001b[0m\u001b[1;33m\u001b[0m\u001b[1;33m\u001b[0m\u001b[0m\n\u001b[1;32m--> 187\u001b[1;33m                     \u001b[0mdownload_and_extract_archive\u001b[0m\u001b[1;33m(\u001b[0m\u001b[0murl\u001b[0m\u001b[1;33m,\u001b[0m \u001b[0mdownload_root\u001b[0m\u001b[1;33m=\u001b[0m\u001b[0mself\u001b[0m\u001b[1;33m.\u001b[0m\u001b[0mraw_folder\u001b[0m\u001b[1;33m,\u001b[0m \u001b[0mfilename\u001b[0m\u001b[1;33m=\u001b[0m\u001b[0mfilename\u001b[0m\u001b[1;33m,\u001b[0m \u001b[0mmd5\u001b[0m\u001b[1;33m=\u001b[0m\u001b[0mmd5\u001b[0m\u001b[1;33m)\u001b[0m\u001b[1;33m\u001b[0m\u001b[1;33m\u001b[0m\u001b[0m\n\u001b[0m\u001b[0;32m    188\u001b[0m                 \u001b[1;32mexcept\u001b[0m \u001b[0mURLError\u001b[0m \u001b[1;32mas\u001b[0m \u001b[0merror\u001b[0m\u001b[1;33m:\u001b[0m\u001b[1;33m\u001b[0m\u001b[1;33m\u001b[0m\u001b[0m\n\u001b[0;32m    189\u001b[0m                     \u001b[0mprint\u001b[0m\u001b[1;33m(\u001b[0m\u001b[1;34mf\"Failed to download (trying next):\\n{error}\"\u001b[0m\u001b[1;33m)\u001b[0m\u001b[1;33m\u001b[0m\u001b[1;33m\u001b[0m\u001b[0m\n",
      "\u001b[1;32mc:\\users\\ardad\\appdata\\local\\programs\\python\\python39\\lib\\site-packages\\torchvision\\datasets\\utils.py\u001b[0m in \u001b[0;36mdownload_and_extract_archive\u001b[1;34m(url, download_root, extract_root, filename, md5, remove_finished)\u001b[0m\n\u001b[0;32m    432\u001b[0m         \u001b[0mfilename\u001b[0m \u001b[1;33m=\u001b[0m \u001b[0mos\u001b[0m\u001b[1;33m.\u001b[0m\u001b[0mpath\u001b[0m\u001b[1;33m.\u001b[0m\u001b[0mbasename\u001b[0m\u001b[1;33m(\u001b[0m\u001b[0murl\u001b[0m\u001b[1;33m)\u001b[0m\u001b[1;33m\u001b[0m\u001b[1;33m\u001b[0m\u001b[0m\n\u001b[0;32m    433\u001b[0m \u001b[1;33m\u001b[0m\u001b[0m\n\u001b[1;32m--> 434\u001b[1;33m     \u001b[0mdownload_url\u001b[0m\u001b[1;33m(\u001b[0m\u001b[0murl\u001b[0m\u001b[1;33m,\u001b[0m \u001b[0mdownload_root\u001b[0m\u001b[1;33m,\u001b[0m \u001b[0mfilename\u001b[0m\u001b[1;33m,\u001b[0m \u001b[0mmd5\u001b[0m\u001b[1;33m)\u001b[0m\u001b[1;33m\u001b[0m\u001b[1;33m\u001b[0m\u001b[0m\n\u001b[0m\u001b[0;32m    435\u001b[0m \u001b[1;33m\u001b[0m\u001b[0m\n\u001b[0;32m    436\u001b[0m     \u001b[0marchive\u001b[0m \u001b[1;33m=\u001b[0m \u001b[0mos\u001b[0m\u001b[1;33m.\u001b[0m\u001b[0mpath\u001b[0m\u001b[1;33m.\u001b[0m\u001b[0mjoin\u001b[0m\u001b[1;33m(\u001b[0m\u001b[0mdownload_root\u001b[0m\u001b[1;33m,\u001b[0m \u001b[0mfilename\u001b[0m\u001b[1;33m)\u001b[0m\u001b[1;33m\u001b[0m\u001b[1;33m\u001b[0m\u001b[0m\n",
      "\u001b[1;32mc:\\users\\ardad\\appdata\\local\\programs\\python\\python39\\lib\\site-packages\\torchvision\\datasets\\utils.py\u001b[0m in \u001b[0;36mdownload_url\u001b[1;34m(url, root, filename, md5, max_redirect_hops)\u001b[0m\n\u001b[0;32m    142\u001b[0m         \u001b[1;32mtry\u001b[0m\u001b[1;33m:\u001b[0m\u001b[1;33m\u001b[0m\u001b[1;33m\u001b[0m\u001b[0m\n\u001b[0;32m    143\u001b[0m             \u001b[0mprint\u001b[0m\u001b[1;33m(\u001b[0m\u001b[1;34m\"Downloading \"\u001b[0m \u001b[1;33m+\u001b[0m \u001b[0murl\u001b[0m \u001b[1;33m+\u001b[0m \u001b[1;34m\" to \"\u001b[0m \u001b[1;33m+\u001b[0m \u001b[0mfpath\u001b[0m\u001b[1;33m)\u001b[0m\u001b[1;33m\u001b[0m\u001b[1;33m\u001b[0m\u001b[0m\n\u001b[1;32m--> 144\u001b[1;33m             \u001b[0m_urlretrieve\u001b[0m\u001b[1;33m(\u001b[0m\u001b[0murl\u001b[0m\u001b[1;33m,\u001b[0m \u001b[0mfpath\u001b[0m\u001b[1;33m)\u001b[0m\u001b[1;33m\u001b[0m\u001b[1;33m\u001b[0m\u001b[0m\n\u001b[0m\u001b[0;32m    145\u001b[0m         \u001b[1;32mexcept\u001b[0m \u001b[1;33m(\u001b[0m\u001b[0murllib\u001b[0m\u001b[1;33m.\u001b[0m\u001b[0merror\u001b[0m\u001b[1;33m.\u001b[0m\u001b[0mURLError\u001b[0m\u001b[1;33m,\u001b[0m \u001b[0mOSError\u001b[0m\u001b[1;33m)\u001b[0m \u001b[1;32mas\u001b[0m \u001b[0me\u001b[0m\u001b[1;33m:\u001b[0m  \u001b[1;31m# type: ignore[attr-defined]\u001b[0m\u001b[1;33m\u001b[0m\u001b[1;33m\u001b[0m\u001b[0m\n\u001b[0;32m    146\u001b[0m             \u001b[1;32mif\u001b[0m \u001b[0murl\u001b[0m\u001b[1;33m[\u001b[0m\u001b[1;33m:\u001b[0m\u001b[1;36m5\u001b[0m\u001b[1;33m]\u001b[0m \u001b[1;33m==\u001b[0m \u001b[1;34m\"https\"\u001b[0m\u001b[1;33m:\u001b[0m\u001b[1;33m\u001b[0m\u001b[1;33m\u001b[0m\u001b[0m\n",
      "\u001b[1;32mc:\\users\\ardad\\appdata\\local\\programs\\python\\python39\\lib\\site-packages\\torchvision\\datasets\\utils.py\u001b[0m in \u001b[0;36m_urlretrieve\u001b[1;34m(url, filename, chunk_size)\u001b[0m\n\u001b[0;32m     46\u001b[0m \u001b[1;32mdef\u001b[0m \u001b[0m_urlretrieve\u001b[0m\u001b[1;33m(\u001b[0m\u001b[0murl\u001b[0m\u001b[1;33m:\u001b[0m \u001b[0mstr\u001b[0m\u001b[1;33m,\u001b[0m \u001b[0mfilename\u001b[0m\u001b[1;33m:\u001b[0m \u001b[0mstr\u001b[0m\u001b[1;33m,\u001b[0m \u001b[0mchunk_size\u001b[0m\u001b[1;33m:\u001b[0m \u001b[0mint\u001b[0m \u001b[1;33m=\u001b[0m \u001b[1;36m1024\u001b[0m \u001b[1;33m*\u001b[0m \u001b[1;36m32\u001b[0m\u001b[1;33m)\u001b[0m \u001b[1;33m->\u001b[0m \u001b[1;32mNone\u001b[0m\u001b[1;33m:\u001b[0m\u001b[1;33m\u001b[0m\u001b[1;33m\u001b[0m\u001b[0m\n\u001b[0;32m     47\u001b[0m     \u001b[1;32mwith\u001b[0m \u001b[0murllib\u001b[0m\u001b[1;33m.\u001b[0m\u001b[0mrequest\u001b[0m\u001b[1;33m.\u001b[0m\u001b[0murlopen\u001b[0m\u001b[1;33m(\u001b[0m\u001b[0murllib\u001b[0m\u001b[1;33m.\u001b[0m\u001b[0mrequest\u001b[0m\u001b[1;33m.\u001b[0m\u001b[0mRequest\u001b[0m\u001b[1;33m(\u001b[0m\u001b[0murl\u001b[0m\u001b[1;33m,\u001b[0m \u001b[0mheaders\u001b[0m\u001b[1;33m=\u001b[0m\u001b[1;33m{\u001b[0m\u001b[1;34m\"User-Agent\"\u001b[0m\u001b[1;33m:\u001b[0m \u001b[0mUSER_AGENT\u001b[0m\u001b[1;33m}\u001b[0m\u001b[1;33m)\u001b[0m\u001b[1;33m)\u001b[0m \u001b[1;32mas\u001b[0m \u001b[0mresponse\u001b[0m\u001b[1;33m:\u001b[0m\u001b[1;33m\u001b[0m\u001b[1;33m\u001b[0m\u001b[0m\n\u001b[1;32m---> 48\u001b[1;33m         \u001b[0m_save_response_content\u001b[0m\u001b[1;33m(\u001b[0m\u001b[0miter\u001b[0m\u001b[1;33m(\u001b[0m\u001b[1;32mlambda\u001b[0m\u001b[1;33m:\u001b[0m \u001b[0mresponse\u001b[0m\u001b[1;33m.\u001b[0m\u001b[0mread\u001b[0m\u001b[1;33m(\u001b[0m\u001b[0mchunk_size\u001b[0m\u001b[1;33m)\u001b[0m\u001b[1;33m,\u001b[0m \u001b[1;34mb\"\"\u001b[0m\u001b[1;33m)\u001b[0m\u001b[1;33m,\u001b[0m \u001b[0mfilename\u001b[0m\u001b[1;33m,\u001b[0m \u001b[0mlength\u001b[0m\u001b[1;33m=\u001b[0m\u001b[0mresponse\u001b[0m\u001b[1;33m.\u001b[0m\u001b[0mlength\u001b[0m\u001b[1;33m)\u001b[0m\u001b[1;33m\u001b[0m\u001b[1;33m\u001b[0m\u001b[0m\n\u001b[0m\u001b[0;32m     49\u001b[0m \u001b[1;33m\u001b[0m\u001b[0m\n\u001b[0;32m     50\u001b[0m \u001b[1;33m\u001b[0m\u001b[0m\n",
      "\u001b[1;32mc:\\users\\ardad\\appdata\\local\\programs\\python\\python39\\lib\\site-packages\\torchvision\\datasets\\utils.py\u001b[0m in \u001b[0;36m_save_response_content\u001b[1;34m(content, destination, length)\u001b[0m\n\u001b[0;32m     35\u001b[0m ) -> None:\n\u001b[0;32m     36\u001b[0m     \u001b[1;32mwith\u001b[0m \u001b[0mopen\u001b[0m\u001b[1;33m(\u001b[0m\u001b[0mdestination\u001b[0m\u001b[1;33m,\u001b[0m \u001b[1;34m\"wb\"\u001b[0m\u001b[1;33m)\u001b[0m \u001b[1;32mas\u001b[0m \u001b[0mfh\u001b[0m\u001b[1;33m,\u001b[0m \u001b[0mtqdm\u001b[0m\u001b[1;33m(\u001b[0m\u001b[0mtotal\u001b[0m\u001b[1;33m=\u001b[0m\u001b[0mlength\u001b[0m\u001b[1;33m)\u001b[0m \u001b[1;32mas\u001b[0m \u001b[0mpbar\u001b[0m\u001b[1;33m:\u001b[0m\u001b[1;33m\u001b[0m\u001b[1;33m\u001b[0m\u001b[0m\n\u001b[1;32m---> 37\u001b[1;33m         \u001b[1;32mfor\u001b[0m \u001b[0mchunk\u001b[0m \u001b[1;32min\u001b[0m \u001b[0mcontent\u001b[0m\u001b[1;33m:\u001b[0m\u001b[1;33m\u001b[0m\u001b[1;33m\u001b[0m\u001b[0m\n\u001b[0m\u001b[0;32m     38\u001b[0m             \u001b[1;31m# filter out keep-alive new chunks\u001b[0m\u001b[1;33m\u001b[0m\u001b[1;33m\u001b[0m\u001b[1;33m\u001b[0m\u001b[0m\n\u001b[0;32m     39\u001b[0m             \u001b[1;32mif\u001b[0m \u001b[1;32mnot\u001b[0m \u001b[0mchunk\u001b[0m\u001b[1;33m:\u001b[0m\u001b[1;33m\u001b[0m\u001b[1;33m\u001b[0m\u001b[0m\n",
      "\u001b[1;32mc:\\users\\ardad\\appdata\\local\\programs\\python\\python39\\lib\\site-packages\\torchvision\\datasets\\utils.py\u001b[0m in \u001b[0;36m<lambda>\u001b[1;34m()\u001b[0m\n\u001b[0;32m     46\u001b[0m \u001b[1;32mdef\u001b[0m \u001b[0m_urlretrieve\u001b[0m\u001b[1;33m(\u001b[0m\u001b[0murl\u001b[0m\u001b[1;33m:\u001b[0m \u001b[0mstr\u001b[0m\u001b[1;33m,\u001b[0m \u001b[0mfilename\u001b[0m\u001b[1;33m:\u001b[0m \u001b[0mstr\u001b[0m\u001b[1;33m,\u001b[0m \u001b[0mchunk_size\u001b[0m\u001b[1;33m:\u001b[0m \u001b[0mint\u001b[0m \u001b[1;33m=\u001b[0m \u001b[1;36m1024\u001b[0m \u001b[1;33m*\u001b[0m \u001b[1;36m32\u001b[0m\u001b[1;33m)\u001b[0m \u001b[1;33m->\u001b[0m \u001b[1;32mNone\u001b[0m\u001b[1;33m:\u001b[0m\u001b[1;33m\u001b[0m\u001b[1;33m\u001b[0m\u001b[0m\n\u001b[0;32m     47\u001b[0m     \u001b[1;32mwith\u001b[0m \u001b[0murllib\u001b[0m\u001b[1;33m.\u001b[0m\u001b[0mrequest\u001b[0m\u001b[1;33m.\u001b[0m\u001b[0murlopen\u001b[0m\u001b[1;33m(\u001b[0m\u001b[0murllib\u001b[0m\u001b[1;33m.\u001b[0m\u001b[0mrequest\u001b[0m\u001b[1;33m.\u001b[0m\u001b[0mRequest\u001b[0m\u001b[1;33m(\u001b[0m\u001b[0murl\u001b[0m\u001b[1;33m,\u001b[0m \u001b[0mheaders\u001b[0m\u001b[1;33m=\u001b[0m\u001b[1;33m{\u001b[0m\u001b[1;34m\"User-Agent\"\u001b[0m\u001b[1;33m:\u001b[0m \u001b[0mUSER_AGENT\u001b[0m\u001b[1;33m}\u001b[0m\u001b[1;33m)\u001b[0m\u001b[1;33m)\u001b[0m \u001b[1;32mas\u001b[0m \u001b[0mresponse\u001b[0m\u001b[1;33m:\u001b[0m\u001b[1;33m\u001b[0m\u001b[1;33m\u001b[0m\u001b[0m\n\u001b[1;32m---> 48\u001b[1;33m         \u001b[0m_save_response_content\u001b[0m\u001b[1;33m(\u001b[0m\u001b[0miter\u001b[0m\u001b[1;33m(\u001b[0m\u001b[1;32mlambda\u001b[0m\u001b[1;33m:\u001b[0m \u001b[0mresponse\u001b[0m\u001b[1;33m.\u001b[0m\u001b[0mread\u001b[0m\u001b[1;33m(\u001b[0m\u001b[0mchunk_size\u001b[0m\u001b[1;33m)\u001b[0m\u001b[1;33m,\u001b[0m \u001b[1;34mb\"\"\u001b[0m\u001b[1;33m)\u001b[0m\u001b[1;33m,\u001b[0m \u001b[0mfilename\u001b[0m\u001b[1;33m,\u001b[0m \u001b[0mlength\u001b[0m\u001b[1;33m=\u001b[0m\u001b[0mresponse\u001b[0m\u001b[1;33m.\u001b[0m\u001b[0mlength\u001b[0m\u001b[1;33m)\u001b[0m\u001b[1;33m\u001b[0m\u001b[1;33m\u001b[0m\u001b[0m\n\u001b[0m\u001b[0;32m     49\u001b[0m \u001b[1;33m\u001b[0m\u001b[0m\n\u001b[0;32m     50\u001b[0m \u001b[1;33m\u001b[0m\u001b[0m\n",
      "\u001b[1;32mc:\\users\\ardad\\appdata\\local\\programs\\python\\python39\\lib\\http\\client.py\u001b[0m in \u001b[0;36mread\u001b[1;34m(self, amt)\u001b[0m\n\u001b[0;32m    456\u001b[0m             \u001b[1;31m# Amount is given, implement using readinto\u001b[0m\u001b[1;33m\u001b[0m\u001b[1;33m\u001b[0m\u001b[1;33m\u001b[0m\u001b[0m\n\u001b[0;32m    457\u001b[0m             \u001b[0mb\u001b[0m \u001b[1;33m=\u001b[0m \u001b[0mbytearray\u001b[0m\u001b[1;33m(\u001b[0m\u001b[0mamt\u001b[0m\u001b[1;33m)\u001b[0m\u001b[1;33m\u001b[0m\u001b[1;33m\u001b[0m\u001b[0m\n\u001b[1;32m--> 458\u001b[1;33m             \u001b[0mn\u001b[0m \u001b[1;33m=\u001b[0m \u001b[0mself\u001b[0m\u001b[1;33m.\u001b[0m\u001b[0mreadinto\u001b[0m\u001b[1;33m(\u001b[0m\u001b[0mb\u001b[0m\u001b[1;33m)\u001b[0m\u001b[1;33m\u001b[0m\u001b[1;33m\u001b[0m\u001b[0m\n\u001b[0m\u001b[0;32m    459\u001b[0m             \u001b[1;32mreturn\u001b[0m \u001b[0mmemoryview\u001b[0m\u001b[1;33m(\u001b[0m\u001b[0mb\u001b[0m\u001b[1;33m)\u001b[0m\u001b[1;33m[\u001b[0m\u001b[1;33m:\u001b[0m\u001b[0mn\u001b[0m\u001b[1;33m]\u001b[0m\u001b[1;33m.\u001b[0m\u001b[0mtobytes\u001b[0m\u001b[1;33m(\u001b[0m\u001b[1;33m)\u001b[0m\u001b[1;33m\u001b[0m\u001b[1;33m\u001b[0m\u001b[0m\n\u001b[0;32m    460\u001b[0m         \u001b[1;32melse\u001b[0m\u001b[1;33m:\u001b[0m\u001b[1;33m\u001b[0m\u001b[1;33m\u001b[0m\u001b[0m\n",
      "\u001b[1;32mc:\\users\\ardad\\appdata\\local\\programs\\python\\python39\\lib\\http\\client.py\u001b[0m in \u001b[0;36mreadinto\u001b[1;34m(self, b)\u001b[0m\n\u001b[0;32m    500\u001b[0m         \u001b[1;31m# connection, and the user is reading more bytes than will be provided\u001b[0m\u001b[1;33m\u001b[0m\u001b[1;33m\u001b[0m\u001b[1;33m\u001b[0m\u001b[0m\n\u001b[0;32m    501\u001b[0m         \u001b[1;31m# (for example, reading in 1k chunks)\u001b[0m\u001b[1;33m\u001b[0m\u001b[1;33m\u001b[0m\u001b[1;33m\u001b[0m\u001b[0m\n\u001b[1;32m--> 502\u001b[1;33m         \u001b[0mn\u001b[0m \u001b[1;33m=\u001b[0m \u001b[0mself\u001b[0m\u001b[1;33m.\u001b[0m\u001b[0mfp\u001b[0m\u001b[1;33m.\u001b[0m\u001b[0mreadinto\u001b[0m\u001b[1;33m(\u001b[0m\u001b[0mb\u001b[0m\u001b[1;33m)\u001b[0m\u001b[1;33m\u001b[0m\u001b[1;33m\u001b[0m\u001b[0m\n\u001b[0m\u001b[0;32m    503\u001b[0m         \u001b[1;32mif\u001b[0m \u001b[1;32mnot\u001b[0m \u001b[0mn\u001b[0m \u001b[1;32mand\u001b[0m \u001b[0mb\u001b[0m\u001b[1;33m:\u001b[0m\u001b[1;33m\u001b[0m\u001b[1;33m\u001b[0m\u001b[0m\n\u001b[0;32m    504\u001b[0m             \u001b[1;31m# Ideally, we would raise IncompleteRead if the content-length\u001b[0m\u001b[1;33m\u001b[0m\u001b[1;33m\u001b[0m\u001b[1;33m\u001b[0m\u001b[0m\n",
      "\u001b[1;32mc:\\users\\ardad\\appdata\\local\\programs\\python\\python39\\lib\\socket.py\u001b[0m in \u001b[0;36mreadinto\u001b[1;34m(self, b)\u001b[0m\n\u001b[0;32m    702\u001b[0m         \u001b[1;32mwhile\u001b[0m \u001b[1;32mTrue\u001b[0m\u001b[1;33m:\u001b[0m\u001b[1;33m\u001b[0m\u001b[1;33m\u001b[0m\u001b[0m\n\u001b[0;32m    703\u001b[0m             \u001b[1;32mtry\u001b[0m\u001b[1;33m:\u001b[0m\u001b[1;33m\u001b[0m\u001b[1;33m\u001b[0m\u001b[0m\n\u001b[1;32m--> 704\u001b[1;33m                 \u001b[1;32mreturn\u001b[0m \u001b[0mself\u001b[0m\u001b[1;33m.\u001b[0m\u001b[0m_sock\u001b[0m\u001b[1;33m.\u001b[0m\u001b[0mrecv_into\u001b[0m\u001b[1;33m(\u001b[0m\u001b[0mb\u001b[0m\u001b[1;33m)\u001b[0m\u001b[1;33m\u001b[0m\u001b[1;33m\u001b[0m\u001b[0m\n\u001b[0m\u001b[0;32m    705\u001b[0m             \u001b[1;32mexcept\u001b[0m \u001b[0mtimeout\u001b[0m\u001b[1;33m:\u001b[0m\u001b[1;33m\u001b[0m\u001b[1;33m\u001b[0m\u001b[0m\n\u001b[0;32m    706\u001b[0m                 \u001b[0mself\u001b[0m\u001b[1;33m.\u001b[0m\u001b[0m_timeout_occurred\u001b[0m \u001b[1;33m=\u001b[0m \u001b[1;32mTrue\u001b[0m\u001b[1;33m\u001b[0m\u001b[1;33m\u001b[0m\u001b[0m\n",
      "\u001b[1;31mKeyboardInterrupt\u001b[0m: "
     ]
    }
   ],
   "source": [
    "transform=transforms.Compose([\n",
    "    transforms.ToTensor(),\n",
    "    transforms.Normalize((0.1307,), (0.3081,))\n",
    "    ])\n",
    "dataset_train = datasets.MNIST('./mnist/', train=True, download=True,\n",
    "                   transform=transform)\n",
    "dataset_test = datasets.MNIST('./mnist/', train=False,\n",
    "                   transform=transform)\n",
    "train_loader = torch.utils.data.DataLoader(dataset_train, batch_size=16)\n",
    "test_loader = torch.utils.data.DataLoader(dataset_test, batch_size=16)"
   ]
  },
  {
   "cell_type": "markdown",
   "metadata": {},
   "source": [
    "Here you can have a look at the dataset to get a feeling on how it looks. The goal of the neural network is to use the image as an input and predict the number the image shows."
   ]
  },
  {
   "cell_type": "code",
   "execution_count": null,
   "metadata": {},
   "outputs": [],
   "source": [
    "plt.figure(figsize=(10,2),dpi=100)\n",
    "for k,i in enumerate(np.random.randint(0, len(dataset_train),5)):\n",
    "    plt.subplot(1,5,k+1)\n",
    "    img, label = train_loader.dataset[i]\n",
    "    img = img[0].numpy()\n",
    "    plt.imshow(img, cmap='gray')\n",
    "    plt.title('Label = '+str(label))\n",
    "    plt.axis('off')\n",
    "plt.show()"
   ]
  },
  {
   "cell_type": "markdown",
   "metadata": {},
   "source": [
    "For this prediction we will use a simple feedforward neural network architecture with one hidden layer and  ReLU-activation function. This activation function has excellent properties for training neural networks, since they solve the vanishing gradient problem and allow for deeper neural networks, but there are many different activation functions that can be used (see the [documentation](https://pytorch.org/docs/stable/nn.html) for a full list).\n",
    "$$\\mathrm{ReLU}(x) = max(0,x)$$\n",
    "As output activation we use a logarithmic softmax, which can be seen as a mapping to the likelihoods of an image belonging to a certain class.\n",
    "\n",
    "The architecture of our neural network consists of two fully connected layers defined in `__init__(self)`, which first map the $28*28=784$ pixels to 128 intermidiate values via matrix multiplication and an added bias term. This intermidiate vector is then mapped to a 10-dimensional ouput vector. The `forward(self, x)` method defines the forward pass of the neural network, where first the image is flattened into a vector, then the first fully connected layer is applied, then a ReLU activation, then the second fully connected layer and finally the logarithmic softmax function."
   ]
  },
  {
   "cell_type": "code",
   "execution_count": null,
   "metadata": {},
   "outputs": [],
   "source": [
    "class Net(nn.Module):\n",
    "    def __init__(self):\n",
    "        super(Net, self).__init__()\n",
    "        self.fc1 = nn.Linear(784, 128) #The first parameter (aka in_parameters) means that the no. of parameters the current linear layers expects from the previous layer.\n",
    "        self.fc2 = nn.Linear(128, 10)\n",
    "\n",
    "    def forward(self, x):\n",
    "        x = torch.flatten(x, 1)\n",
    "        x = self.fc1(x)\n",
    "        x = F.relu(x)\n",
    "        x = self.fc2(x)\n",
    "        output = F.log_softmax(x, dim=1)\n",
    "        return output"
   ]
  },
  {
   "cell_type": "markdown",
   "metadata": {},
   "source": [
    "After defining our architecture, we need to perform the training of the parameters. This optimization procedure is in most instances based on a gradient descent variety. Since we have a lot of training samples here, computing the full gradient of the loss function with respect to each adaptable weight is very expensive. Instead we opt for an approximation of the gradient of a minibatch of samples (e.g. 16 samples). This gives an approximate gradient direction, which allows us to update our weights and minimize our loss function more efficiently. Below you find a loop over our training and testing dataset. Read through the code and try to understand what each statement means and what happens."
   ]
  },
  {
   "cell_type": "markdown",
   "metadata": {},
   "source": [
    "Run the loop below and train the model (this might take a while)."
   ]
  },
  {
   "cell_type": "code",
   "execution_count": null,
   "metadata": {},
   "outputs": [],
   "source": [
    "# number of iterations\n",
    "epochs = 10\n",
    "# step width in gradient-based optimization\n",
    "learning_rate = 0.0001\n",
    "# initialize our model with random parameters\n",
    "model = Net()\n",
    "# choose an optimizer\n",
    "optimizer = optim.Adam(model.parameters(), lr = learning_rate)\n",
    "# choose a loss function\n",
    "loss_function = F.nll_loss\n",
    "\n",
    "# initialize lists for plotting\n",
    "learning_curve_train = []\n",
    "learning_curve_test = []\n",
    "\n",
    "for epoch in range(1, epochs+1):\n",
    "    \n",
    "    # temporary variables to track model convergence\n",
    "    loss_train = []\n",
    "    loss_test = []\n",
    "    correct = 0\n",
    "    \n",
    "    # Training Loop\n",
    "    for data, target in train_loader:\n",
    "        # set gradient to zero\n",
    "        optimizer.zero_grad()\n",
    "        # predict with current model\n",
    "        output = model(data)\n",
    "        # compute loss of predictions and target values\n",
    "        loss = loss_function(output, target)\n",
    "        # Backpropagation of errors gives gradients\n",
    "        loss.backward()\n",
    "        # Update weights with approximate gradient\n",
    "        optimizer.step()\n",
    "        # Store loss\n",
    "        loss_train.append(loss.item())\n",
    "\n",
    "    # Stop tracking gradients for evaluation phase\n",
    "    with torch.no_grad():\n",
    "        # Test Loop\n",
    "        for data, target in test_loader:\n",
    "            # predict with current model\n",
    "            output = model(data)\n",
    "            # compute loss\n",
    "            loss = loss_function(output, target)\n",
    "            # store loss\n",
    "            loss_test.append(loss.item())\n",
    "            # transform output into predicted class\n",
    "            pred = output.argmax(dim=1, keepdim=True)\n",
    "            # compare predictions and labels and store \n",
    "            # number of correct predictions\n",
    "            correct += pred.eq(target.view_as(pred)).sum().item()\n",
    "\n",
    "    # Store loss at each iteration for plotting\n",
    "    learning_curve_train.append(np.mean(loss_train))\n",
    "    learning_curve_test.append(np.mean(loss_test))\n",
    "    \n",
    "    # Print to Stdout\n",
    "    print('Epoch: {}\\tTrain loss: {:.4f}\\tTest loss: {:.4f}\\tTest Accuracy: {}/{} ({:.0f}%)'.format(\n",
    "        epoch, learning_curve_train[-1], learning_curve_test[-1], \n",
    "        correct, len(test_loader.dataset),\n",
    "        100. * correct / len(test_loader.dataset)))"
   ]
  },
  {
   "cell_type": "markdown",
   "metadata": {},
   "source": [
    "We can check if the model generalizes by looking at the learning curve (loss of training and testing data at each iteration)."
   ]
  },
  {
   "cell_type": "code",
   "execution_count": null,
   "metadata": {},
   "outputs": [],
   "source": [
    "plt.plot(np.arange(1, epochs+1), learning_curve_train, label='Train')\n",
    "plt.plot(np.arange(1, epochs+1), learning_curve_test, label='Test')\n",
    "plt.xlabel('# Epochs')\n",
    "plt.ylabel('Loss')\n",
    "plt.legend()"
   ]
  },
  {
   "cell_type": "markdown",
   "metadata": {},
   "source": [
    "Now we can look at some of the predictions."
   ]
  },
  {
   "cell_type": "code",
   "execution_count": null,
   "metadata": {},
   "outputs": [],
   "source": [
    "plt.figure(figsize=(10,2),dpi=100)\n",
    "for k,i in enumerate(np.random.randint(0, len(dataset_test),5)):\n",
    "    plt.subplot(1,5,k+1)\n",
    "    img, label = test_loader.dataset[i]\n",
    "    pred = torch.argmax(model(img)).item()\n",
    "    img = img[0].numpy()\n",
    "    plt.imshow(img, cmap='gray')\n",
    "    plt.title('Prediction = '+str(pred))\n",
    "    plt.xticks([])\n",
    "    plt.yticks([])\n",
    "    plt.xlabel('True = '+str(label))\n",
    "plt.show()"
   ]
  },
  {
   "cell_type": "markdown",
   "metadata": {},
   "source": [
    "# Classification of Stars (4P)\n",
    "In this exercise we are going to adapt the previously provided code to work on a comparatively small dataset of star measurements from [Kaggle](https://www.kaggle.com/deepu1109/star-dataset). From just four measurements (Temperature, Luminosity, Radius, Absolute magnitude), we will try to predict the star type (Browm Dwarf, Red Dwarf, White Dwarf, Main Sequence, Supergiant, Hypergiant) by using a Feedforward Neural Network architecture that was trained on 200 measurements. By determining hyperparameters we will optimize our model before we will test the generalization of the model to not seen instances."
   ]
  },
  {
   "cell_type": "markdown",
   "metadata": {},
   "source": [
    "First load the dataset in `star_data.csv` from Moodle with pandas and familiarize yourself with the dataset. Extract the data into Numpy-arrays called `x` and `y` for input (the four measurments) and output (the star type) data respectively and make sure that the each array has the correct datatype (`np.float32` for `x` and `np.longlong` for `y`. **Hint**: you can use `.to_numpy()` on pandas dataframes and `.astype()` on numpy arrays to change the datatype."
   ]
  },
  {
   "cell_type": "code",
   "execution_count": 4,
   "metadata": {},
   "outputs": [
    {
     "data": {
      "text/plain": [
       "['Temperature (K)',\n",
       " 'Luminosity(L/Lo)',\n",
       " 'Radius(R/Ro)',\n",
       " 'Absolute magnitude(Mv)',\n",
       " 'Star type',\n",
       " 'Star color',\n",
       " 'Spectral Class']"
      ]
     },
     "execution_count": 4,
     "metadata": {},
     "output_type": "execute_result"
    }
   ],
   "source": [
    "df = pd.read_csv(\"star_data.csv\")\n",
    "header = list(df.columns)\n",
    "header"
   ]
  },
  {
   "cell_type": "code",
   "execution_count": 5,
   "metadata": {},
   "outputs": [],
   "source": [
    "y = df[header[4]].to_numpy(dtype=np.longlong)\n",
    "x = df[df.columns[0:4]].to_numpy()\n",
    "#x[:,1]  #getting columns"
   ]
  },
  {
   "cell_type": "markdown",
   "metadata": {},
   "source": [
    "Write a function `rescale(x)` that min-max-scales each of your input-values to values between 0 and 1 (see [here](https://towardsdatascience.com/everything-you-need-to-know-about-min-max-normalization-in-python-b79592732b79) for an introduction). \n",
    "$$x_{i,rescaled}=\\frac{x_i-x_{i,min}}{x_{i,max}-x_{i,min}}$$\n",
    "Split the pairs of inputs and outputs into 200 training samples and 40 testing samples. Shuffle your data beforehand to prevent unexpected behaviour. "
   ]
  },
  {
   "cell_type": "code",
   "execution_count": 6,
   "metadata": {},
   "outputs": [
    {
     "data": {
      "text/plain": [
       "0.0024"
      ]
     },
     "execution_count": 6,
     "metadata": {},
     "output_type": "execute_result"
    }
   ],
   "source": [
    "max(x[:,0])  #40000\n",
    "min(x[:,0])  #1939\n",
    "x[:,1][0]"
   ]
  },
  {
   "cell_type": "code",
   "execution_count": 7,
   "metadata": {},
   "outputs": [],
   "source": [
    "def rescale(v,dataset):\n",
    "    x_rescaled = (v - min(dataset)) / (max(dataset)-min(dataset))\n",
    "    return x_rescaled"
   ]
  },
  {
   "cell_type": "code",
   "execution_count": 8,
   "metadata": {},
   "outputs": [],
   "source": [
    "#rescale(x[:,2][0],x[:,2])"
   ]
  },
  {
   "cell_type": "code",
   "execution_count": 9,
   "metadata": {},
   "outputs": [],
   "source": [
    "normalized = []\n",
    "for i in range(4):\n",
    "    for v in x[:,i]:\n",
    "        normalized.append(rescale(v,x[:,i])) \n",
    "        \n",
    "arr = np.array(normalized)\n",
    "normalized_x = np.array(np.split(arr,4))\n",
    "#normalized_x[0]\n",
    "normalized_x_reshaped = normalized_x.T"
   ]
  },
  {
   "cell_type": "code",
   "execution_count": 10,
   "metadata": {},
   "outputs": [],
   "source": [
    "# Use train_test_split to split the data\n",
    "X_train, X_test, Y_train, Y_test = train_test_split(normalized_x_reshaped, y, test_size=40, train_size=200)"
   ]
  },
  {
   "cell_type": "code",
   "execution_count": 11,
   "metadata": {},
   "outputs": [],
   "source": [
    "#idx = np.arange(len(normalized_x[0]))\n",
    "#np.random.shuffle(indices)\n",
    "#xx_train, yy_train = x[idx[:200]], y[idx[:200]]\n",
    "#xx_test, yy_test = x[idx[200:]], y[idx[200:]]"
   ]
  },
  {
   "cell_type": "markdown",
   "metadata": {},
   "source": [
    "In the introductory example on the MNIST dataset, the dataset was already provided in a clean datastructure which allowed for convenient usage. Now we have to create our own dataset. For this we will use the `Dataset` class provided in Pytorch. Complete the `__len__(self)` and `__getitem__(self, idx)` methods to return the number of samples in the dataset and the sample (input and label) with index `idx`. Print the number of training- and test-datasets and output some of the input and output pairs by calling 5 random indices."
   ]
  },
  {
   "cell_type": "code",
   "execution_count": 12,
   "metadata": {},
   "outputs": [
    {
     "name": "stdout",
     "output_type": "stream",
     "text": [
      "200 40\n",
      "(tensor([[1.6581e-01, 1.0890e-05, 3.0810e-04, 3.3202e-01]]), tensor(3))\n"
     ]
    }
   ],
   "source": [
    "from torch.utils.data import Dataset\n",
    "\n",
    "class StarDataset(Dataset):\n",
    "    def __init__(self, x, y,dtype=torch.float32):\n",
    "        self.x = torch.from_numpy(x).to(dtype)\n",
    "        self.y = torch.from_numpy(y).to(dtype)\n",
    "        \n",
    "    def __len__(self):\n",
    "        return self.y.shape[0]  # return number of samples in dataset\n",
    "        \n",
    "    def __getitem__(self, idx):\n",
    "        return self.x[idx], self.y[idx].squeeze().long()  #return sample (input and label) with index\n",
    "                                                          #.squeeze().long(), we put it in order to not have an array in y_output. (e.g. tensor(2))  \n",
    "#StarDataset(X_train,Y_train).__getitem__(123)   #index can be up to 200.\n",
    "dataset_train = StarDataset(X_train,Y_train,dtype=torch.float32)\n",
    "dataset_test = StarDataset(X_test,Y_test,dtype=torch.float32)\n",
    "print(len(dataset_train),len(dataset_test))\n",
    "random_indices = np.random.randint(len(dataset_test), size=1)\n",
    "print(dataset_train[random_indices])"
   ]
  },
  {
   "cell_type": "markdown",
   "metadata": {},
   "source": [
    "Using the `DataLoader` class, create a dataloader of your training- and test-data. You can specify a batch size for loading the data. This batch size can be seen as a hyperparameter, which allows you to tune the convergence of your model."
   ]
  },
  {
   "cell_type": "code",
   "execution_count": 13,
   "metadata": {},
   "outputs": [],
   "source": [
    "from torch.utils.data import DataLoader\n",
    "\n",
    "train_dataloader = DataLoader(dataset_train, batch_size=64) #The batch size is usually set between 64 and 256. The batch size does have an effect on the final test accuracy. One way to think about it is that smaller batches means that the number of parameter updates per epoch is greater\n",
    "test_dataloader = DataLoader(dataset_test, batch_size=1)"
   ]
  },
  {
   "cell_type": "markdown",
   "metadata": {},
   "source": [
    "Adapt the previously provided `Net` class to work with the new data. For this change the architecture to reflect the new input and output dimensions of your data. You can also add additional layers and change the sizes of the hidden layers to tune model performance. **Hint:** Remove the `flatten()` function, since our data is already a vector and not a matrix. You can change the width of your hidden layers by changing the `out_features`-parameter in a `nn.Linear`-layer and the `in_features` of the following `nn.Linear`-layer. "
   ]
  },
  {
   "cell_type": "code",
   "execution_count": 14,
   "metadata": {},
   "outputs": [],
   "source": [
    "class Net(nn.Module):\n",
    "    def __init__(self):\n",
    "        super(Net, self).__init__()   #inherit from nn.Module class\n",
    "        self.fc1 = nn.Linear(4, 100) #The first parameter (aka in_parameters) means that the no. of parameters the current linear layers expects from the previous layer.\n",
    "        self.fc2 = nn.Linear(100, 10)\n",
    "        self.fc3 = nn.Linear(10, 6) #We have 6 possible solutions (aka star types) !!!\n",
    "\n",
    "    def forward(self, x):\n",
    "        x = self.fc1(x)\n",
    "        x = F.relu(x)\n",
    "        x = self.fc2(x)\n",
    "        x = F.relu(x)\n",
    "        x = self.fc3(x)\n",
    "        output = F.log_softmax(x, dim=1)\n",
    "        return output"
   ]
  },
  {
   "cell_type": "markdown",
   "metadata": {},
   "source": [
    "Use the provide code of the training and evaluation loop to the train your new model on the star data. Tune the hyperparameters (i.e., number of hidden layers, width of hidden layers, used activation functions, learning rate, number of epochs, training batch size) to optimize the training procedure and model performance and describe the influence of the different hyperparameters on the model performance and the training procedure."
   ]
  },
  {
   "cell_type": "code",
   "execution_count": 15,
   "metadata": {},
   "outputs": [
    {
     "name": "stdout",
     "output_type": "stream",
     "text": [
      "Epoch: 1\tTrain loss: 1.7946\tTest loss: 1.7954\tTest Accuracy: 9/40 (22%)\n",
      "Epoch: 2\tTrain loss: 1.7487\tTest loss: 1.7685\tTest Accuracy: 9/40 (22%)\n",
      "Epoch: 3\tTrain loss: 1.7144\tTest loss: 1.7296\tTest Accuracy: 10/40 (25%)\n",
      "Epoch: 4\tTrain loss: 1.6682\tTest loss: 1.6774\tTest Accuracy: 12/40 (30%)\n",
      "Epoch: 5\tTrain loss: 1.6093\tTest loss: 1.6065\tTest Accuracy: 14/40 (35%)\n",
      "Epoch: 6\tTrain loss: 1.5386\tTest loss: 1.5266\tTest Accuracy: 14/40 (35%)\n",
      "Epoch: 7\tTrain loss: 1.4629\tTest loss: 1.4503\tTest Accuracy: 14/40 (35%)\n",
      "Epoch: 8\tTrain loss: 1.3882\tTest loss: 1.3845\tTest Accuracy: 14/40 (35%)\n",
      "Epoch: 9\tTrain loss: 1.3203\tTest loss: 1.3271\tTest Accuracy: 14/40 (35%)\n",
      "Epoch: 10\tTrain loss: 1.2464\tTest loss: 1.2773\tTest Accuracy: 17/40 (42%)\n",
      "Epoch: 11\tTrain loss: 1.1853\tTest loss: 1.2142\tTest Accuracy: 17/40 (42%)\n",
      "Epoch: 12\tTrain loss: 1.1032\tTest loss: 1.1759\tTest Accuracy: 18/40 (45%)\n",
      "Epoch: 13\tTrain loss: 1.0360\tTest loss: 1.1261\tTest Accuracy: 19/40 (48%)\n",
      "Epoch: 14\tTrain loss: 0.9739\tTest loss: 1.0626\tTest Accuracy: 19/40 (48%)\n",
      "Epoch: 15\tTrain loss: 0.9157\tTest loss: 0.9905\tTest Accuracy: 19/40 (48%)\n",
      "Epoch: 16\tTrain loss: 0.8553\tTest loss: 0.9265\tTest Accuracy: 19/40 (48%)\n",
      "Epoch: 17\tTrain loss: 0.7985\tTest loss: 0.8761\tTest Accuracy: 22/40 (55%)\n",
      "Epoch: 18\tTrain loss: 0.7560\tTest loss: 0.8455\tTest Accuracy: 23/40 (58%)\n",
      "Epoch: 19\tTrain loss: 0.7274\tTest loss: 0.8195\tTest Accuracy: 23/40 (58%)\n",
      "Epoch: 20\tTrain loss: 0.7019\tTest loss: 0.7993\tTest Accuracy: 24/40 (60%)\n",
      "Epoch: 21\tTrain loss: 0.6789\tTest loss: 0.7737\tTest Accuracy: 24/40 (60%)\n",
      "Epoch: 22\tTrain loss: 0.6579\tTest loss: 0.7571\tTest Accuracy: 24/40 (60%)\n",
      "Epoch: 23\tTrain loss: 0.6417\tTest loss: 0.7406\tTest Accuracy: 25/40 (62%)\n",
      "Epoch: 24\tTrain loss: 0.6283\tTest loss: 0.7206\tTest Accuracy: 25/40 (62%)\n",
      "Epoch: 25\tTrain loss: 0.6119\tTest loss: 0.6937\tTest Accuracy: 26/40 (65%)\n",
      "Epoch: 26\tTrain loss: 0.5966\tTest loss: 0.6681\tTest Accuracy: 28/40 (70%)\n",
      "Epoch: 27\tTrain loss: 0.5765\tTest loss: 0.6460\tTest Accuracy: 30/40 (75%)\n",
      "Epoch: 28\tTrain loss: 0.5586\tTest loss: 0.6229\tTest Accuracy: 30/40 (75%)\n",
      "Epoch: 29\tTrain loss: 0.5365\tTest loss: 0.5994\tTest Accuracy: 30/40 (75%)\n",
      "Epoch: 30\tTrain loss: 0.5156\tTest loss: 0.5774\tTest Accuracy: 29/40 (72%)\n",
      "Epoch: 31\tTrain loss: 0.4955\tTest loss: 0.5560\tTest Accuracy: 29/40 (72%)\n",
      "Epoch: 32\tTrain loss: 0.4764\tTest loss: 0.5427\tTest Accuracy: 30/40 (75%)\n",
      "Epoch: 33\tTrain loss: 0.4567\tTest loss: 0.5354\tTest Accuracy: 30/40 (75%)\n",
      "Epoch: 34\tTrain loss: 0.4415\tTest loss: 0.5261\tTest Accuracy: 30/40 (75%)\n",
      "Epoch: 35\tTrain loss: 0.4287\tTest loss: 0.5153\tTest Accuracy: 30/40 (75%)\n",
      "Epoch: 36\tTrain loss: 0.4175\tTest loss: 0.5128\tTest Accuracy: 29/40 (72%)\n",
      "Epoch: 37\tTrain loss: 0.4062\tTest loss: 0.5098\tTest Accuracy: 29/40 (72%)\n",
      "Epoch: 38\tTrain loss: 0.3983\tTest loss: 0.5013\tTest Accuracy: 29/40 (72%)\n",
      "Epoch: 39\tTrain loss: 0.3910\tTest loss: 0.4948\tTest Accuracy: 29/40 (72%)\n",
      "Epoch: 40\tTrain loss: 0.3854\tTest loss: 0.4944\tTest Accuracy: 29/40 (72%)\n",
      "Epoch: 41\tTrain loss: 0.3790\tTest loss: 0.4897\tTest Accuracy: 30/40 (75%)\n",
      "Epoch: 42\tTrain loss: 0.3771\tTest loss: 0.4892\tTest Accuracy: 30/40 (75%)\n",
      "Epoch: 43\tTrain loss: 0.3703\tTest loss: 0.4781\tTest Accuracy: 31/40 (78%)\n",
      "Epoch: 44\tTrain loss: 0.3709\tTest loss: 0.4825\tTest Accuracy: 30/40 (75%)\n",
      "Epoch: 45\tTrain loss: 0.3647\tTest loss: 0.4725\tTest Accuracy: 31/40 (78%)\n",
      "Epoch: 46\tTrain loss: 0.3704\tTest loss: 0.4851\tTest Accuracy: 30/40 (75%)\n",
      "Epoch: 47\tTrain loss: 0.3612\tTest loss: 0.4720\tTest Accuracy: 31/40 (78%)\n",
      "Epoch: 48\tTrain loss: 0.3679\tTest loss: 0.4606\tTest Accuracy: 30/40 (75%)\n",
      "Epoch: 49\tTrain loss: 0.3524\tTest loss: 0.4785\tTest Accuracy: 31/40 (78%)\n",
      "Epoch: 50\tTrain loss: 0.3629\tTest loss: 0.4824\tTest Accuracy: 30/40 (75%)\n",
      "Epoch: 51\tTrain loss: 0.3550\tTest loss: 0.4588\tTest Accuracy: 31/40 (78%)\n",
      "Epoch: 52\tTrain loss: 0.3587\tTest loss: 0.4541\tTest Accuracy: 30/40 (75%)\n",
      "Epoch: 53\tTrain loss: 0.3429\tTest loss: 0.4649\tTest Accuracy: 30/40 (75%)\n",
      "Epoch: 54\tTrain loss: 0.3427\tTest loss: 0.4637\tTest Accuracy: 30/40 (75%)\n",
      "Epoch: 55\tTrain loss: 0.3408\tTest loss: 0.4596\tTest Accuracy: 30/40 (75%)\n",
      "Epoch: 56\tTrain loss: 0.3389\tTest loss: 0.4529\tTest Accuracy: 30/40 (75%)\n",
      "Epoch: 57\tTrain loss: 0.3393\tTest loss: 0.4454\tTest Accuracy: 31/40 (78%)\n",
      "Epoch: 58\tTrain loss: 0.3404\tTest loss: 0.4666\tTest Accuracy: 30/40 (75%)\n",
      "Epoch: 59\tTrain loss: 0.3391\tTest loss: 0.4484\tTest Accuracy: 31/40 (78%)\n",
      "Epoch: 60\tTrain loss: 0.3412\tTest loss: 0.4433\tTest Accuracy: 31/40 (78%)\n",
      "Epoch: 61\tTrain loss: 0.3320\tTest loss: 0.4621\tTest Accuracy: 30/40 (75%)\n",
      "Epoch: 62\tTrain loss: 0.3337\tTest loss: 0.4440\tTest Accuracy: 30/40 (75%)\n",
      "Epoch: 63\tTrain loss: 0.3330\tTest loss: 0.4420\tTest Accuracy: 31/40 (78%)\n",
      "Epoch: 64\tTrain loss: 0.3277\tTest loss: 0.4563\tTest Accuracy: 29/40 (72%)\n",
      "Epoch: 65\tTrain loss: 0.3281\tTest loss: 0.4441\tTest Accuracy: 31/40 (78%)\n",
      "Epoch: 66\tTrain loss: 0.3298\tTest loss: 0.4376\tTest Accuracy: 31/40 (78%)\n",
      "Epoch: 67\tTrain loss: 0.3260\tTest loss: 0.4496\tTest Accuracy: 30/40 (75%)\n",
      "Epoch: 68\tTrain loss: 0.3246\tTest loss: 0.4377\tTest Accuracy: 31/40 (78%)\n",
      "Epoch: 69\tTrain loss: 0.3269\tTest loss: 0.4347\tTest Accuracy: 30/40 (75%)\n",
      "Epoch: 70\tTrain loss: 0.3236\tTest loss: 0.4486\tTest Accuracy: 29/40 (72%)\n",
      "Epoch: 71\tTrain loss: 0.3230\tTest loss: 0.4265\tTest Accuracy: 31/40 (78%)\n",
      "Epoch: 72\tTrain loss: 0.3256\tTest loss: 0.4323\tTest Accuracy: 30/40 (75%)\n",
      "Epoch: 73\tTrain loss: 0.3201\tTest loss: 0.4521\tTest Accuracy: 29/40 (72%)\n",
      "Epoch: 74\tTrain loss: 0.3225\tTest loss: 0.4335\tTest Accuracy: 30/40 (75%)\n",
      "Epoch: 75\tTrain loss: 0.3219\tTest loss: 0.4271\tTest Accuracy: 31/40 (78%)\n",
      "Epoch: 76\tTrain loss: 0.3193\tTest loss: 0.4499\tTest Accuracy: 29/40 (72%)\n",
      "Epoch: 77\tTrain loss: 0.3208\tTest loss: 0.4286\tTest Accuracy: 32/40 (80%)\n",
      "Epoch: 78\tTrain loss: 0.3258\tTest loss: 0.4351\tTest Accuracy: 29/40 (72%)\n",
      "Epoch: 79\tTrain loss: 0.3171\tTest loss: 0.4412\tTest Accuracy: 31/40 (78%)\n",
      "Epoch: 80\tTrain loss: 0.3242\tTest loss: 0.4444\tTest Accuracy: 30/40 (75%)\n",
      "Epoch: 81\tTrain loss: 0.3203\tTest loss: 0.4126\tTest Accuracy: 32/40 (80%)\n",
      "Epoch: 82\tTrain loss: 0.3294\tTest loss: 0.4314\tTest Accuracy: 31/40 (78%)\n",
      "Epoch: 83\tTrain loss: 0.3157\tTest loss: 0.4446\tTest Accuracy: 31/40 (78%)\n",
      "Epoch: 84\tTrain loss: 0.3276\tTest loss: 0.4471\tTest Accuracy: 30/40 (75%)\n",
      "Epoch: 85\tTrain loss: 0.3238\tTest loss: 0.4127\tTest Accuracy: 32/40 (80%)\n",
      "Epoch: 86\tTrain loss: 0.3303\tTest loss: 0.4252\tTest Accuracy: 30/40 (75%)\n",
      "Epoch: 87\tTrain loss: 0.3147\tTest loss: 0.4378\tTest Accuracy: 30/40 (75%)\n",
      "Epoch: 88\tTrain loss: 0.3248\tTest loss: 0.4416\tTest Accuracy: 30/40 (75%)\n",
      "Epoch: 89\tTrain loss: 0.3206\tTest loss: 0.4143\tTest Accuracy: 32/40 (80%)\n",
      "Epoch: 90\tTrain loss: 0.3222\tTest loss: 0.4191\tTest Accuracy: 30/40 (75%)\n",
      "Epoch: 91\tTrain loss: 0.3093\tTest loss: 0.4362\tTest Accuracy: 32/40 (80%)\n",
      "Epoch: 92\tTrain loss: 0.3165\tTest loss: 0.4346\tTest Accuracy: 31/40 (78%)\n",
      "Epoch: 93\tTrain loss: 0.3144\tTest loss: 0.4127\tTest Accuracy: 32/40 (80%)\n",
      "Epoch: 94\tTrain loss: 0.3136\tTest loss: 0.4166\tTest Accuracy: 31/40 (78%)\n",
      "Epoch: 95\tTrain loss: 0.3061\tTest loss: 0.4363\tTest Accuracy: 30/40 (75%)\n",
      "Epoch: 96\tTrain loss: 0.3109\tTest loss: 0.4230\tTest Accuracy: 31/40 (78%)\n",
      "Epoch: 97\tTrain loss: 0.3077\tTest loss: 0.4114\tTest Accuracy: 31/40 (78%)\n",
      "Epoch: 98\tTrain loss: 0.3045\tTest loss: 0.4143\tTest Accuracy: 31/40 (78%)\n",
      "Epoch: 99\tTrain loss: 0.3083\tTest loss: 0.4367\tTest Accuracy: 30/40 (75%)\n",
      "Epoch: 100\tTrain loss: 0.3126\tTest loss: 0.4078\tTest Accuracy: 32/40 (80%)\n",
      "Epoch: 101\tTrain loss: 0.3203\tTest loss: 0.4168\tTest Accuracy: 31/40 (78%)\n",
      "Epoch: 102\tTrain loss: 0.3100\tTest loss: 0.4277\tTest Accuracy: 32/40 (80%)\n",
      "Epoch: 103\tTrain loss: 0.3244\tTest loss: 0.4368\tTest Accuracy: 30/40 (75%)\n",
      "Epoch: 104\tTrain loss: 0.3241\tTest loss: 0.4056\tTest Accuracy: 32/40 (80%)\n",
      "Epoch: 105\tTrain loss: 0.3264\tTest loss: 0.4060\tTest Accuracy: 31/40 (78%)\n",
      "Epoch: 106\tTrain loss: 0.3046\tTest loss: 0.4279\tTest Accuracy: 31/40 (78%)\n",
      "Epoch: 107\tTrain loss: 0.3113\tTest loss: 0.4232\tTest Accuracy: 30/40 (75%)\n",
      "Epoch: 108\tTrain loss: 0.3064\tTest loss: 0.4118\tTest Accuracy: 31/40 (78%)\n",
      "Epoch: 109\tTrain loss: 0.3014\tTest loss: 0.4019\tTest Accuracy: 32/40 (80%)\n",
      "Epoch: 110\tTrain loss: 0.2986\tTest loss: 0.4159\tTest Accuracy: 31/40 (78%)\n",
      "Epoch: 111\tTrain loss: 0.2998\tTest loss: 0.4076\tTest Accuracy: 32/40 (80%)\n",
      "Epoch: 112\tTrain loss: 0.3005\tTest loss: 0.4072\tTest Accuracy: 31/40 (78%)\n",
      "Epoch: 113\tTrain loss: 0.3003\tTest loss: 0.4045\tTest Accuracy: 32/40 (80%)\n",
      "Epoch: 114\tTrain loss: 0.3033\tTest loss: 0.4137\tTest Accuracy: 30/40 (75%)\n",
      "Epoch: 115\tTrain loss: 0.3026\tTest loss: 0.4121\tTest Accuracy: 31/40 (78%)\n",
      "Epoch: 116\tTrain loss: 0.3084\tTest loss: 0.4155\tTest Accuracy: 30/40 (75%)\n",
      "Epoch: 117\tTrain loss: 0.3042\tTest loss: 0.3973\tTest Accuracy: 32/40 (80%)\n",
      "Epoch: 118\tTrain loss: 0.3184\tTest loss: 0.4159\tTest Accuracy: 31/40 (78%)\n",
      "Epoch: 119\tTrain loss: 0.3113\tTest loss: 0.4101\tTest Accuracy: 32/40 (80%)\n",
      "Epoch: 120\tTrain loss: 0.3197\tTest loss: 0.4128\tTest Accuracy: 30/40 (75%)\n",
      "Epoch: 121\tTrain loss: 0.3069\tTest loss: 0.3981\tTest Accuracy: 31/40 (78%)\n",
      "Epoch: 122\tTrain loss: 0.3026\tTest loss: 0.3917\tTest Accuracy: 31/40 (78%)\n",
      "Epoch: 123\tTrain loss: 0.2942\tTest loss: 0.4183\tTest Accuracy: 30/40 (75%)\n",
      "Epoch: 124\tTrain loss: 0.2985\tTest loss: 0.4008\tTest Accuracy: 31/40 (78%)\n",
      "Epoch: 125\tTrain loss: 0.2952\tTest loss: 0.3961\tTest Accuracy: 32/40 (80%)\n",
      "Epoch: 126\tTrain loss: 0.2927\tTest loss: 0.4047\tTest Accuracy: 32/40 (80%)\n",
      "Epoch: 127\tTrain loss: 0.2945\tTest loss: 0.4033\tTest Accuracy: 30/40 (75%)\n",
      "Epoch: 128\tTrain loss: 0.2934\tTest loss: 0.3925\tTest Accuracy: 31/40 (78%)\n",
      "Epoch: 129\tTrain loss: 0.2937\tTest loss: 0.3991\tTest Accuracy: 30/40 (75%)\n",
      "Epoch: 130\tTrain loss: 0.2936\tTest loss: 0.4012\tTest Accuracy: 32/40 (80%)\n",
      "Epoch: 131\tTrain loss: 0.2967\tTest loss: 0.4063\tTest Accuracy: 30/40 (75%)\n",
      "Epoch: 132\tTrain loss: 0.2951\tTest loss: 0.3925\tTest Accuracy: 31/40 (78%)\n",
      "Epoch: 133\tTrain loss: 0.2994\tTest loss: 0.3970\tTest Accuracy: 30/40 (75%)\n",
      "Epoch: 134\tTrain loss: 0.2926\tTest loss: 0.4103\tTest Accuracy: 31/40 (78%)\n",
      "Epoch: 135\tTrain loss: 0.2984\tTest loss: 0.4136\tTest Accuracy: 30/40 (75%)\n",
      "Epoch: 136\tTrain loss: 0.2982\tTest loss: 0.3919\tTest Accuracy: 32/40 (80%)\n",
      "Epoch: 137\tTrain loss: 0.2966\tTest loss: 0.3946\tTest Accuracy: 31/40 (78%)\n",
      "Epoch: 138\tTrain loss: 0.2906\tTest loss: 0.4112\tTest Accuracy: 32/40 (80%)\n",
      "Epoch: 139\tTrain loss: 0.3003\tTest loss: 0.4071\tTest Accuracy: 30/40 (75%)\n",
      "Epoch: 140\tTrain loss: 0.2984\tTest loss: 0.3861\tTest Accuracy: 32/40 (80%)\n",
      "Epoch: 141\tTrain loss: 0.3020\tTest loss: 0.3976\tTest Accuracy: 31/40 (78%)\n",
      "Epoch: 142\tTrain loss: 0.2936\tTest loss: 0.4099\tTest Accuracy: 31/40 (78%)\n",
      "Epoch: 143\tTrain loss: 0.3069\tTest loss: 0.4102\tTest Accuracy: 30/40 (75%)\n",
      "Epoch: 144\tTrain loss: 0.3058\tTest loss: 0.3880\tTest Accuracy: 32/40 (80%)\n",
      "Epoch: 145\tTrain loss: 0.3080\tTest loss: 0.3884\tTest Accuracy: 31/40 (78%)\n",
      "Epoch: 146\tTrain loss: 0.2970\tTest loss: 0.3977\tTest Accuracy: 31/40 (78%)\n",
      "Epoch: 147\tTrain loss: 0.3119\tTest loss: 0.4051\tTest Accuracy: 30/40 (75%)\n",
      "Epoch: 148\tTrain loss: 0.3004\tTest loss: 0.3920\tTest Accuracy: 32/40 (80%)\n",
      "Epoch: 149\tTrain loss: 0.2923\tTest loss: 0.3855\tTest Accuracy: 31/40 (78%)\n",
      "Epoch: 150\tTrain loss: 0.2847\tTest loss: 0.3921\tTest Accuracy: 31/40 (78%)\n",
      "Epoch: 151\tTrain loss: 0.2904\tTest loss: 0.4006\tTest Accuracy: 31/40 (78%)\n",
      "Epoch: 152\tTrain loss: 0.2891\tTest loss: 0.3807\tTest Accuracy: 32/40 (80%)\n",
      "Epoch: 153\tTrain loss: 0.2835\tTest loss: 0.3802\tTest Accuracy: 33/40 (82%)\n",
      "Epoch: 154\tTrain loss: 0.2814\tTest loss: 0.3892\tTest Accuracy: 31/40 (78%)\n",
      "Epoch: 155\tTrain loss: 0.2830\tTest loss: 0.3885\tTest Accuracy: 31/40 (78%)\n",
      "Epoch: 156\tTrain loss: 0.2854\tTest loss: 0.3810\tTest Accuracy: 32/40 (80%)\n",
      "Epoch: 157\tTrain loss: 0.2884\tTest loss: 0.3866\tTest Accuracy: 31/40 (78%)\n",
      "Epoch: 158\tTrain loss: 0.2864\tTest loss: 0.3925\tTest Accuracy: 31/40 (78%)\n",
      "Epoch: 159\tTrain loss: 0.2997\tTest loss: 0.3938\tTest Accuracy: 31/40 (78%)\n",
      "Epoch: 160\tTrain loss: 0.2977\tTest loss: 0.3848\tTest Accuracy: 32/40 (80%)\n",
      "Epoch: 161\tTrain loss: 0.3138\tTest loss: 0.3917\tTest Accuracy: 30/40 (75%)\n",
      "Epoch: 162\tTrain loss: 0.2946\tTest loss: 0.3841\tTest Accuracy: 31/40 (78%)\n",
      "Epoch: 163\tTrain loss: 0.2991\tTest loss: 0.3763\tTest Accuracy: 32/40 (80%)\n",
      "Epoch: 164\tTrain loss: 0.2834\tTest loss: 0.3805\tTest Accuracy: 31/40 (78%)\n",
      "Epoch: 165\tTrain loss: 0.2830\tTest loss: 0.3810\tTest Accuracy: 31/40 (78%)\n",
      "Epoch: 166\tTrain loss: 0.2790\tTest loss: 0.3792\tTest Accuracy: 31/40 (78%)\n",
      "Epoch: 167\tTrain loss: 0.2793\tTest loss: 0.3797\tTest Accuracy: 31/40 (78%)\n",
      "Epoch: 168\tTrain loss: 0.2781\tTest loss: 0.3774\tTest Accuracy: 31/40 (78%)\n",
      "Epoch: 169\tTrain loss: 0.2768\tTest loss: 0.3782\tTest Accuracy: 31/40 (78%)\n",
      "Epoch: 170\tTrain loss: 0.2775\tTest loss: 0.3747\tTest Accuracy: 32/40 (80%)\n",
      "Epoch: 171\tTrain loss: 0.2778\tTest loss: 0.3744\tTest Accuracy: 32/40 (80%)\n",
      "Epoch: 172\tTrain loss: 0.2768\tTest loss: 0.3861\tTest Accuracy: 31/40 (78%)\n",
      "Epoch: 173\tTrain loss: 0.2817\tTest loss: 0.3785\tTest Accuracy: 31/40 (78%)\n",
      "Epoch: 174\tTrain loss: 0.2776\tTest loss: 0.3755\tTest Accuracy: 31/40 (78%)\n",
      "Epoch: 175\tTrain loss: 0.2817\tTest loss: 0.3813\tTest Accuracy: 31/40 (78%)\n",
      "Epoch: 176\tTrain loss: 0.2821\tTest loss: 0.3773\tTest Accuracy: 31/40 (78%)\n",
      "Epoch: 177\tTrain loss: 0.2925\tTest loss: 0.3819\tTest Accuracy: 31/40 (78%)\n",
      "Epoch: 178\tTrain loss: 0.2900\tTest loss: 0.3802\tTest Accuracy: 32/40 (80%)\n",
      "Epoch: 179\tTrain loss: 0.3092\tTest loss: 0.3741\tTest Accuracy: 31/40 (78%)\n",
      "Epoch: 180\tTrain loss: 0.2841\tTest loss: 0.3800\tTest Accuracy: 31/40 (78%)\n",
      "Epoch: 181\tTrain loss: 0.2882\tTest loss: 0.3723\tTest Accuracy: 31/40 (78%)\n",
      "Epoch: 182\tTrain loss: 0.2765\tTest loss: 0.3685\tTest Accuracy: 31/40 (78%)\n",
      "Epoch: 183\tTrain loss: 0.2741\tTest loss: 0.3791\tTest Accuracy: 31/40 (78%)\n",
      "Epoch: 184\tTrain loss: 0.2735\tTest loss: 0.3720\tTest Accuracy: 32/40 (80%)\n",
      "Epoch: 185\tTrain loss: 0.2731\tTest loss: 0.3669\tTest Accuracy: 32/40 (80%)\n",
      "Epoch: 186\tTrain loss: 0.2716\tTest loss: 0.3741\tTest Accuracy: 32/40 (80%)\n",
      "Epoch: 187\tTrain loss: 0.2757\tTest loss: 0.3717\tTest Accuracy: 31/40 (78%)\n",
      "Epoch: 188\tTrain loss: 0.2735\tTest loss: 0.3739\tTest Accuracy: 31/40 (78%)\n",
      "Epoch: 189\tTrain loss: 0.2807\tTest loss: 0.3726\tTest Accuracy: 31/40 (78%)\n",
      "Epoch: 190\tTrain loss: 0.2780\tTest loss: 0.3749\tTest Accuracy: 31/40 (78%)\n",
      "Epoch: 191\tTrain loss: 0.2896\tTest loss: 0.3763\tTest Accuracy: 30/40 (75%)\n",
      "Epoch: 192\tTrain loss: 0.2853\tTest loss: 0.3709\tTest Accuracy: 32/40 (80%)\n",
      "Epoch: 193\tTrain loss: 0.3003\tTest loss: 0.3651\tTest Accuracy: 32/40 (80%)\n",
      "Epoch: 194\tTrain loss: 0.2747\tTest loss: 0.3805\tTest Accuracy: 31/40 (78%)\n",
      "Epoch: 195\tTrain loss: 0.2782\tTest loss: 0.3697\tTest Accuracy: 31/40 (78%)\n",
      "Epoch: 196\tTrain loss: 0.2687\tTest loss: 0.3661\tTest Accuracy: 31/40 (78%)\n",
      "Epoch: 197\tTrain loss: 0.2645\tTest loss: 0.3698\tTest Accuracy: 32/40 (80%)\n",
      "Epoch: 198\tTrain loss: 0.2683\tTest loss: 0.3642\tTest Accuracy: 32/40 (80%)\n",
      "Epoch: 199\tTrain loss: 0.2698\tTest loss: 0.3626\tTest Accuracy: 31/40 (78%)\n",
      "Epoch: 200\tTrain loss: 0.2669\tTest loss: 0.3702\tTest Accuracy: 31/40 (78%)\n",
      "Epoch: 201\tTrain loss: 0.2713\tTest loss: 0.3747\tTest Accuracy: 31/40 (78%)\n",
      "Epoch: 202\tTrain loss: 0.2745\tTest loss: 0.3775\tTest Accuracy: 32/40 (80%)\n",
      "Epoch: 203\tTrain loss: 0.2872\tTest loss: 0.3715\tTest Accuracy: 30/40 (75%)\n",
      "Epoch: 204\tTrain loss: 0.2812\tTest loss: 0.3750\tTest Accuracy: 32/40 (80%)\n",
      "Epoch: 205\tTrain loss: 0.3029\tTest loss: 0.3634\tTest Accuracy: 32/40 (80%)\n",
      "Epoch: 206\tTrain loss: 0.2731\tTest loss: 0.3747\tTest Accuracy: 31/40 (78%)\n",
      "Epoch: 207\tTrain loss: 0.2767\tTest loss: 0.3654\tTest Accuracy: 31/40 (78%)\n",
      "Epoch: 208\tTrain loss: 0.2649\tTest loss: 0.3645\tTest Accuracy: 31/40 (78%)\n",
      "Epoch: 209\tTrain loss: 0.2609\tTest loss: 0.3676\tTest Accuracy: 31/40 (78%)\n",
      "Epoch: 210\tTrain loss: 0.2632\tTest loss: 0.3591\tTest Accuracy: 31/40 (78%)\n",
      "Epoch: 211\tTrain loss: 0.2634\tTest loss: 0.3602\tTest Accuracy: 32/40 (80%)\n",
      "Epoch: 212\tTrain loss: 0.2623\tTest loss: 0.3582\tTest Accuracy: 32/40 (80%)\n",
      "Epoch: 213\tTrain loss: 0.2596\tTest loss: 0.3603\tTest Accuracy: 31/40 (78%)\n",
      "Epoch: 214\tTrain loss: 0.2605\tTest loss: 0.3600\tTest Accuracy: 31/40 (78%)\n",
      "Epoch: 215\tTrain loss: 0.2609\tTest loss: 0.3640\tTest Accuracy: 31/40 (78%)\n",
      "Epoch: 216\tTrain loss: 0.2618\tTest loss: 0.3611\tTest Accuracy: 31/40 (78%)\n",
      "Epoch: 217\tTrain loss: 0.2587\tTest loss: 0.3622\tTest Accuracy: 31/40 (78%)\n",
      "Epoch: 218\tTrain loss: 0.2618\tTest loss: 0.3625\tTest Accuracy: 32/40 (80%)\n",
      "Epoch: 219\tTrain loss: 0.2631\tTest loss: 0.3700\tTest Accuracy: 31/40 (78%)\n",
      "Epoch: 220\tTrain loss: 0.2712\tTest loss: 0.3648\tTest Accuracy: 31/40 (78%)\n",
      "Epoch: 221\tTrain loss: 0.2699\tTest loss: 0.3726\tTest Accuracy: 33/40 (82%)\n",
      "Epoch: 222\tTrain loss: 0.2915\tTest loss: 0.3630\tTest Accuracy: 32/40 (80%)\n",
      "Epoch: 223\tTrain loss: 0.2762\tTest loss: 0.3718\tTest Accuracy: 31/40 (78%)\n",
      "Epoch: 224\tTrain loss: 0.3012\tTest loss: 0.3532\tTest Accuracy: 33/40 (82%)\n",
      "Epoch: 225\tTrain loss: 0.2601\tTest loss: 0.3755\tTest Accuracy: 30/40 (75%)\n",
      "Epoch: 226\tTrain loss: 0.2657\tTest loss: 0.3677\tTest Accuracy: 31/40 (78%)\n",
      "Epoch: 227\tTrain loss: 0.2651\tTest loss: 0.3547\tTest Accuracy: 32/40 (80%)\n",
      "Epoch: 228\tTrain loss: 0.2544\tTest loss: 0.3691\tTest Accuracy: 32/40 (80%)\n",
      "Epoch: 229\tTrain loss: 0.2650\tTest loss: 0.3529\tTest Accuracy: 33/40 (82%)\n",
      "Epoch: 230\tTrain loss: 0.2621\tTest loss: 0.3643\tTest Accuracy: 34/40 (85%)\n",
      "Epoch: 231\tTrain loss: 0.2670\tTest loss: 0.3687\tTest Accuracy: 31/40 (78%)\n",
      "Epoch: 232\tTrain loss: 0.2690\tTest loss: 0.3663\tTest Accuracy: 34/40 (85%)\n",
      "Epoch: 233\tTrain loss: 0.2885\tTest loss: 0.3581\tTest Accuracy: 34/40 (85%)\n",
      "Epoch: 234\tTrain loss: 0.2641\tTest loss: 0.3724\tTest Accuracy: 31/40 (78%)\n",
      "Epoch: 235\tTrain loss: 0.2745\tTest loss: 0.3582\tTest Accuracy: 32/40 (80%)\n",
      "Epoch: 236\tTrain loss: 0.2598\tTest loss: 0.3572\tTest Accuracy: 34/40 (85%)\n",
      "Epoch: 237\tTrain loss: 0.2618\tTest loss: 0.3577\tTest Accuracy: 31/40 (78%)\n",
      "Epoch: 238\tTrain loss: 0.2574\tTest loss: 0.3583\tTest Accuracy: 33/40 (82%)\n",
      "Epoch: 239\tTrain loss: 0.2578\tTest loss: 0.3528\tTest Accuracy: 33/40 (82%)\n",
      "Epoch: 240\tTrain loss: 0.2574\tTest loss: 0.3613\tTest Accuracy: 33/40 (82%)\n",
      "Epoch: 241\tTrain loss: 0.2680\tTest loss: 0.3548\tTest Accuracy: 33/40 (82%)\n",
      "Epoch: 242\tTrain loss: 0.2643\tTest loss: 0.3688\tTest Accuracy: 34/40 (85%)\n",
      "Epoch: 243\tTrain loss: 0.2824\tTest loss: 0.3518\tTest Accuracy: 32/40 (80%)\n",
      "Epoch: 244\tTrain loss: 0.2555\tTest loss: 0.3642\tTest Accuracy: 32/40 (80%)\n",
      "Epoch: 245\tTrain loss: 0.2604\tTest loss: 0.3541\tTest Accuracy: 33/40 (82%)\n",
      "Epoch: 246\tTrain loss: 0.2532\tTest loss: 0.3511\tTest Accuracy: 32/40 (80%)\n",
      "Epoch: 247\tTrain loss: 0.2498\tTest loss: 0.3555\tTest Accuracy: 33/40 (82%)\n",
      "Epoch: 248\tTrain loss: 0.2533\tTest loss: 0.3531\tTest Accuracy: 33/40 (82%)\n",
      "Epoch: 249\tTrain loss: 0.2552\tTest loss: 0.3483\tTest Accuracy: 34/40 (85%)\n",
      "Epoch: 250\tTrain loss: 0.2520\tTest loss: 0.3717\tTest Accuracy: 33/40 (82%)\n",
      "Epoch: 251\tTrain loss: 0.2633\tTest loss: 0.3551\tTest Accuracy: 32/40 (80%)\n",
      "Epoch: 252\tTrain loss: 0.2572\tTest loss: 0.3677\tTest Accuracy: 33/40 (82%)\n",
      "Epoch: 253\tTrain loss: 0.2711\tTest loss: 0.3553\tTest Accuracy: 33/40 (82%)\n",
      "Epoch: 254\tTrain loss: 0.2658\tTest loss: 0.3678\tTest Accuracy: 33/40 (82%)\n",
      "Epoch: 255\tTrain loss: 0.2977\tTest loss: 0.3511\tTest Accuracy: 32/40 (80%)\n",
      "Epoch: 256\tTrain loss: 0.2521\tTest loss: 0.3742\tTest Accuracy: 30/40 (75%)\n",
      "Epoch: 257\tTrain loss: 0.2604\tTest loss: 0.3594\tTest Accuracy: 32/40 (80%)\n",
      "Epoch: 258\tTrain loss: 0.2572\tTest loss: 0.3505\tTest Accuracy: 32/40 (80%)\n",
      "Epoch: 259\tTrain loss: 0.2450\tTest loss: 0.3638\tTest Accuracy: 33/40 (82%)\n",
      "Epoch: 260\tTrain loss: 0.2565\tTest loss: 0.3412\tTest Accuracy: 34/40 (85%)\n",
      "Epoch: 261\tTrain loss: 0.2532\tTest loss: 0.3598\tTest Accuracy: 33/40 (82%)\n",
      "Epoch: 262\tTrain loss: 0.2619\tTest loss: 0.3568\tTest Accuracy: 32/40 (80%)\n",
      "Epoch: 263\tTrain loss: 0.2596\tTest loss: 0.3628\tTest Accuracy: 32/40 (80%)\n",
      "Epoch: 264\tTrain loss: 0.2757\tTest loss: 0.3467\tTest Accuracy: 33/40 (82%)\n",
      "Epoch: 265\tTrain loss: 0.2489\tTest loss: 0.3619\tTest Accuracy: 33/40 (82%)\n",
      "Epoch: 266\tTrain loss: 0.2525\tTest loss: 0.3461\tTest Accuracy: 32/40 (80%)\n",
      "Epoch: 267\tTrain loss: 0.2492\tTest loss: 0.3506\tTest Accuracy: 33/40 (82%)\n",
      "Epoch: 268\tTrain loss: 0.2513\tTest loss: 0.3517\tTest Accuracy: 33/40 (82%)\n",
      "Epoch: 269\tTrain loss: 0.2572\tTest loss: 0.3605\tTest Accuracy: 33/40 (82%)\n",
      "Epoch: 270\tTrain loss: 0.2745\tTest loss: 0.3454\tTest Accuracy: 33/40 (82%)\n",
      "Epoch: 271\tTrain loss: 0.2490\tTest loss: 0.3674\tTest Accuracy: 33/40 (82%)\n",
      "Epoch: 272\tTrain loss: 0.2576\tTest loss: 0.3482\tTest Accuracy: 32/40 (80%)\n",
      "Epoch: 273\tTrain loss: 0.2516\tTest loss: 0.3567\tTest Accuracy: 33/40 (82%)\n",
      "Epoch: 274\tTrain loss: 0.2616\tTest loss: 0.3452\tTest Accuracy: 33/40 (82%)\n",
      "Epoch: 275\tTrain loss: 0.2575\tTest loss: 0.3590\tTest Accuracy: 33/40 (82%)\n",
      "Epoch: 276\tTrain loss: 0.2743\tTest loss: 0.3444\tTest Accuracy: 32/40 (80%)\n",
      "Epoch: 277\tTrain loss: 0.2432\tTest loss: 0.3581\tTest Accuracy: 33/40 (82%)\n",
      "Epoch: 278\tTrain loss: 0.2488\tTest loss: 0.3510\tTest Accuracy: 32/40 (80%)\n",
      "Epoch: 279\tTrain loss: 0.2455\tTest loss: 0.3448\tTest Accuracy: 32/40 (80%)\n",
      "Epoch: 280\tTrain loss: 0.2403\tTest loss: 0.3446\tTest Accuracy: 33/40 (82%)\n",
      "Epoch: 281\tTrain loss: 0.2422\tTest loss: 0.3386\tTest Accuracy: 33/40 (82%)\n",
      "Epoch: 282\tTrain loss: 0.2419\tTest loss: 0.3412\tTest Accuracy: 32/40 (80%)\n",
      "Epoch: 283\tTrain loss: 0.2417\tTest loss: 0.3451\tTest Accuracy: 32/40 (80%)\n",
      "Epoch: 284\tTrain loss: 0.2409\tTest loss: 0.3451\tTest Accuracy: 32/40 (80%)\n",
      "Epoch: 285\tTrain loss: 0.2400\tTest loss: 0.3475\tTest Accuracy: 32/40 (80%)\n",
      "Epoch: 286\tTrain loss: 0.2412\tTest loss: 0.3405\tTest Accuracy: 32/40 (80%)\n",
      "Epoch: 287\tTrain loss: 0.2391\tTest loss: 0.3442\tTest Accuracy: 32/40 (80%)\n",
      "Epoch: 288\tTrain loss: 0.2404\tTest loss: 0.3392\tTest Accuracy: 32/40 (80%)\n",
      "Epoch: 289\tTrain loss: 0.2395\tTest loss: 0.3440\tTest Accuracy: 32/40 (80%)\n",
      "Epoch: 290\tTrain loss: 0.2405\tTest loss: 0.3395\tTest Accuracy: 32/40 (80%)\n",
      "Epoch: 291\tTrain loss: 0.2393\tTest loss: 0.3505\tTest Accuracy: 32/40 (80%)\n",
      "Epoch: 292\tTrain loss: 0.2419\tTest loss: 0.3394\tTest Accuracy: 32/40 (80%)\n",
      "Epoch: 293\tTrain loss: 0.2386\tTest loss: 0.3496\tTest Accuracy: 32/40 (80%)\n",
      "Epoch: 294\tTrain loss: 0.2416\tTest loss: 0.3369\tTest Accuracy: 32/40 (80%)\n",
      "Epoch: 295\tTrain loss: 0.2380\tTest loss: 0.3483\tTest Accuracy: 33/40 (82%)\n",
      "Epoch: 296\tTrain loss: 0.2406\tTest loss: 0.3406\tTest Accuracy: 32/40 (80%)\n",
      "Epoch: 297\tTrain loss: 0.2393\tTest loss: 0.3533\tTest Accuracy: 32/40 (80%)\n",
      "Epoch: 298\tTrain loss: 0.2430\tTest loss: 0.3428\tTest Accuracy: 32/40 (80%)\n",
      "Epoch: 299\tTrain loss: 0.2405\tTest loss: 0.3614\tTest Accuracy: 33/40 (82%)\n",
      "Epoch: 300\tTrain loss: 0.2542\tTest loss: 0.3455\tTest Accuracy: 33/40 (82%)\n",
      "Epoch: 301\tTrain loss: 0.2511\tTest loss: 0.3741\tTest Accuracy: 33/40 (82%)\n",
      "Epoch: 302\tTrain loss: 0.2899\tTest loss: 0.3443\tTest Accuracy: 32/40 (80%)\n",
      "Epoch: 303\tTrain loss: 0.2515\tTest loss: 0.3557\tTest Accuracy: 32/40 (80%)\n",
      "Epoch: 304\tTrain loss: 0.2601\tTest loss: 0.3374\tTest Accuracy: 32/40 (80%)\n",
      "Epoch: 305\tTrain loss: 0.2381\tTest loss: 0.3550\tTest Accuracy: 32/40 (80%)\n",
      "Epoch: 306\tTrain loss: 0.2471\tTest loss: 0.3677\tTest Accuracy: 33/40 (82%)\n",
      "Epoch: 307\tTrain loss: 0.2714\tTest loss: 0.3401\tTest Accuracy: 32/40 (80%)\n",
      "Epoch: 308\tTrain loss: 0.2380\tTest loss: 0.3670\tTest Accuracy: 33/40 (82%)\n",
      "Epoch: 309\tTrain loss: 0.2526\tTest loss: 0.3581\tTest Accuracy: 33/40 (82%)\n",
      "Epoch: 310\tTrain loss: 0.2561\tTest loss: 0.3395\tTest Accuracy: 32/40 (80%)\n",
      "Epoch: 311\tTrain loss: 0.2433\tTest loss: 0.3783\tTest Accuracy: 33/40 (82%)\n",
      "Epoch: 312\tTrain loss: 0.2913\tTest loss: 0.3362\tTest Accuracy: 33/40 (82%)\n",
      "Epoch: 313\tTrain loss: 0.2438\tTest loss: 0.3670\tTest Accuracy: 32/40 (80%)\n",
      "Epoch: 314\tTrain loss: 0.2537\tTest loss: 0.3631\tTest Accuracy: 32/40 (80%)\n",
      "Epoch: 315\tTrain loss: 0.2531\tTest loss: 0.3415\tTest Accuracy: 32/40 (80%)\n",
      "Epoch: 316\tTrain loss: 0.2342\tTest loss: 0.3556\tTest Accuracy: 34/40 (85%)\n",
      "Epoch: 317\tTrain loss: 0.2543\tTest loss: 0.3240\tTest Accuracy: 34/40 (85%)\n",
      "Epoch: 318\tTrain loss: 0.2449\tTest loss: 0.3628\tTest Accuracy: 33/40 (82%)\n",
      "Epoch: 319\tTrain loss: 0.2554\tTest loss: 0.3466\tTest Accuracy: 32/40 (80%)\n",
      "Epoch: 320\tTrain loss: 0.2490\tTest loss: 0.3585\tTest Accuracy: 33/40 (82%)\n",
      "Epoch: 321\tTrain loss: 0.2775\tTest loss: 0.3394\tTest Accuracy: 33/40 (82%)\n",
      "Epoch: 322\tTrain loss: 0.2395\tTest loss: 0.3802\tTest Accuracy: 31/40 (78%)\n",
      "Epoch: 323\tTrain loss: 0.2601\tTest loss: 0.3729\tTest Accuracy: 33/40 (82%)\n",
      "Epoch: 324\tTrain loss: 0.2726\tTest loss: 0.3668\tTest Accuracy: 32/40 (80%)\n",
      "Epoch: 325\tTrain loss: 0.2364\tTest loss: 0.3747\tTest Accuracy: 31/40 (78%)\n",
      "Epoch: 326\tTrain loss: 0.2551\tTest loss: 0.3385\tTest Accuracy: 33/40 (82%)\n",
      "Epoch: 327\tTrain loss: 0.2667\tTest loss: 0.3358\tTest Accuracy: 33/40 (82%)\n",
      "Epoch: 328\tTrain loss: 0.2351\tTest loss: 0.3806\tTest Accuracy: 30/40 (75%)\n",
      "Epoch: 329\tTrain loss: 0.2605\tTest loss: 0.3606\tTest Accuracy: 33/40 (82%)\n",
      "Epoch: 330\tTrain loss: 0.2764\tTest loss: 0.3424\tTest Accuracy: 32/40 (80%)\n",
      "Epoch: 331\tTrain loss: 0.2308\tTest loss: 0.3793\tTest Accuracy: 30/40 (75%)\n",
      "Epoch: 332\tTrain loss: 0.2583\tTest loss: 0.3505\tTest Accuracy: 33/40 (82%)\n",
      "Epoch: 333\tTrain loss: 0.2745\tTest loss: 0.3369\tTest Accuracy: 32/40 (80%)\n",
      "Epoch: 334\tTrain loss: 0.2303\tTest loss: 0.3823\tTest Accuracy: 29/40 (72%)\n",
      "Epoch: 335\tTrain loss: 0.2592\tTest loss: 0.3524\tTest Accuracy: 33/40 (82%)\n",
      "Epoch: 336\tTrain loss: 0.2776\tTest loss: 0.3377\tTest Accuracy: 32/40 (80%)\n",
      "Epoch: 337\tTrain loss: 0.2368\tTest loss: 0.3651\tTest Accuracy: 31/40 (78%)\n",
      "Epoch: 338\tTrain loss: 0.2603\tTest loss: 0.3414\tTest Accuracy: 32/40 (80%)\n",
      "Epoch: 339\tTrain loss: 0.2636\tTest loss: 0.3405\tTest Accuracy: 33/40 (82%)\n",
      "Epoch: 340\tTrain loss: 0.2283\tTest loss: 0.3721\tTest Accuracy: 31/40 (78%)\n",
      "Epoch: 341\tTrain loss: 0.2536\tTest loss: 0.3484\tTest Accuracy: 33/40 (82%)\n",
      "Epoch: 342\tTrain loss: 0.2761\tTest loss: 0.3364\tTest Accuracy: 33/40 (82%)\n",
      "Epoch: 343\tTrain loss: 0.2403\tTest loss: 0.3635\tTest Accuracy: 31/40 (78%)\n",
      "Epoch: 344\tTrain loss: 0.2612\tTest loss: 0.3528\tTest Accuracy: 32/40 (80%)\n",
      "Epoch: 345\tTrain loss: 0.2683\tTest loss: 0.3461\tTest Accuracy: 33/40 (82%)\n",
      "Epoch: 346\tTrain loss: 0.2291\tTest loss: 0.3588\tTest Accuracy: 33/40 (82%)\n",
      "Epoch: 347\tTrain loss: 0.2479\tTest loss: 0.3386\tTest Accuracy: 33/40 (82%)\n",
      "Epoch: 348\tTrain loss: 0.2597\tTest loss: 0.3323\tTest Accuracy: 34/40 (85%)\n",
      "Epoch: 349\tTrain loss: 0.2330\tTest loss: 0.3584\tTest Accuracy: 32/40 (80%)\n",
      "Epoch: 350\tTrain loss: 0.2458\tTest loss: 0.3475\tTest Accuracy: 32/40 (80%)\n",
      "Epoch: 351\tTrain loss: 0.2491\tTest loss: 0.3355\tTest Accuracy: 34/40 (85%)\n",
      "Epoch: 352\tTrain loss: 0.2284\tTest loss: 0.3474\tTest Accuracy: 33/40 (82%)\n",
      "Epoch: 353\tTrain loss: 0.2351\tTest loss: 0.3311\tTest Accuracy: 33/40 (82%)\n",
      "Epoch: 354\tTrain loss: 0.2337\tTest loss: 0.3347\tTest Accuracy: 33/40 (82%)\n",
      "Epoch: 355\tTrain loss: 0.2294\tTest loss: 0.3344\tTest Accuracy: 33/40 (82%)\n",
      "Epoch: 356\tTrain loss: 0.2298\tTest loss: 0.3452\tTest Accuracy: 32/40 (80%)\n",
      "Epoch: 357\tTrain loss: 0.2380\tTest loss: 0.3382\tTest Accuracy: 32/40 (80%)\n",
      "Epoch: 358\tTrain loss: 0.2389\tTest loss: 0.3783\tTest Accuracy: 33/40 (82%)\n",
      "Epoch: 359\tTrain loss: 0.2780\tTest loss: 0.3466\tTest Accuracy: 32/40 (80%)\n",
      "Epoch: 360\tTrain loss: 0.2356\tTest loss: 0.3623\tTest Accuracy: 32/40 (80%)\n",
      "Epoch: 361\tTrain loss: 0.2468\tTest loss: 0.3642\tTest Accuracy: 33/40 (82%)\n",
      "Epoch: 362\tTrain loss: 0.2681\tTest loss: 0.3411\tTest Accuracy: 32/40 (80%)\n",
      "Epoch: 363\tTrain loss: 0.2308\tTest loss: 0.3739\tTest Accuracy: 32/40 (80%)\n",
      "Epoch: 364\tTrain loss: 0.2521\tTest loss: 0.3544\tTest Accuracy: 33/40 (82%)\n",
      "Epoch: 365\tTrain loss: 0.2754\tTest loss: 0.3350\tTest Accuracy: 33/40 (82%)\n",
      "Epoch: 366\tTrain loss: 0.2289\tTest loss: 0.3879\tTest Accuracy: 29/40 (72%)\n",
      "Epoch: 367\tTrain loss: 0.2595\tTest loss: 0.3613\tTest Accuracy: 33/40 (82%)\n",
      "Epoch: 368\tTrain loss: 0.2858\tTest loss: 0.3398\tTest Accuracy: 33/40 (82%)\n",
      "Epoch: 369\tTrain loss: 0.2353\tTest loss: 0.3641\tTest Accuracy: 32/40 (80%)\n",
      "Epoch: 370\tTrain loss: 0.2643\tTest loss: 0.3439\tTest Accuracy: 33/40 (82%)\n",
      "Epoch: 371\tTrain loss: 0.2727\tTest loss: 0.3422\tTest Accuracy: 33/40 (82%)\n",
      "Epoch: 372\tTrain loss: 0.2287\tTest loss: 0.3586\tTest Accuracy: 33/40 (82%)\n",
      "Epoch: 373\tTrain loss: 0.2486\tTest loss: 0.3378\tTest Accuracy: 33/40 (82%)\n",
      "Epoch: 374\tTrain loss: 0.2583\tTest loss: 0.3299\tTest Accuracy: 34/40 (85%)\n",
      "Epoch: 375\tTrain loss: 0.2311\tTest loss: 0.3479\tTest Accuracy: 32/40 (80%)\n",
      "Epoch: 376\tTrain loss: 0.2421\tTest loss: 0.3455\tTest Accuracy: 32/40 (80%)\n",
      "Epoch: 377\tTrain loss: 0.2448\tTest loss: 0.3343\tTest Accuracy: 34/40 (85%)\n",
      "Epoch: 378\tTrain loss: 0.2270\tTest loss: 0.3497\tTest Accuracy: 33/40 (82%)\n",
      "Epoch: 379\tTrain loss: 0.2312\tTest loss: 0.3280\tTest Accuracy: 33/40 (82%)\n",
      "Epoch: 380\tTrain loss: 0.2288\tTest loss: 0.3355\tTest Accuracy: 33/40 (82%)\n",
      "Epoch: 381\tTrain loss: 0.2293\tTest loss: 0.3311\tTest Accuracy: 33/40 (82%)\n",
      "Epoch: 382\tTrain loss: 0.2270\tTest loss: 0.3524\tTest Accuracy: 32/40 (80%)\n",
      "Epoch: 383\tTrain loss: 0.2382\tTest loss: 0.3384\tTest Accuracy: 33/40 (82%)\n",
      "Epoch: 384\tTrain loss: 0.2376\tTest loss: 0.3750\tTest Accuracy: 33/40 (82%)\n",
      "Epoch: 385\tTrain loss: 0.2786\tTest loss: 0.3427\tTest Accuracy: 33/40 (82%)\n",
      "Epoch: 386\tTrain loss: 0.2351\tTest loss: 0.3717\tTest Accuracy: 31/40 (78%)\n",
      "Epoch: 387\tTrain loss: 0.2519\tTest loss: 0.3774\tTest Accuracy: 33/40 (82%)\n",
      "Epoch: 388\tTrain loss: 0.2824\tTest loss: 0.3451\tTest Accuracy: 32/40 (80%)\n",
      "Epoch: 389\tTrain loss: 0.2312\tTest loss: 0.3608\tTest Accuracy: 34/40 (85%)\n",
      "Epoch: 390\tTrain loss: 0.2492\tTest loss: 0.3446\tTest Accuracy: 33/40 (82%)\n",
      "Epoch: 391\tTrain loss: 0.2626\tTest loss: 0.3340\tTest Accuracy: 33/40 (82%)\n",
      "Epoch: 392\tTrain loss: 0.2282\tTest loss: 0.3641\tTest Accuracy: 32/40 (80%)\n",
      "Epoch: 393\tTrain loss: 0.2432\tTest loss: 0.3475\tTest Accuracy: 33/40 (82%)\n",
      "Epoch: 394\tTrain loss: 0.2442\tTest loss: 0.3312\tTest Accuracy: 34/40 (85%)\n",
      "Epoch: 395\tTrain loss: 0.2227\tTest loss: 0.3607\tTest Accuracy: 33/40 (82%)\n",
      "Epoch: 396\tTrain loss: 0.2345\tTest loss: 0.3258\tTest Accuracy: 34/40 (85%)\n",
      "Epoch: 397\tTrain loss: 0.2297\tTest loss: 0.3374\tTest Accuracy: 33/40 (82%)\n",
      "Epoch: 398\tTrain loss: 0.2282\tTest loss: 0.3340\tTest Accuracy: 32/40 (80%)\n",
      "Epoch: 399\tTrain loss: 0.2262\tTest loss: 0.3527\tTest Accuracy: 32/40 (80%)\n",
      "Epoch: 400\tTrain loss: 0.2359\tTest loss: 0.3321\tTest Accuracy: 33/40 (82%)\n",
      "Epoch: 401\tTrain loss: 0.2293\tTest loss: 0.3682\tTest Accuracy: 33/40 (82%)\n",
      "Epoch: 402\tTrain loss: 0.2589\tTest loss: 0.3445\tTest Accuracy: 32/40 (80%)\n",
      "Epoch: 403\tTrain loss: 0.2315\tTest loss: 0.3396\tTest Accuracy: 33/40 (82%)\n",
      "Epoch: 404\tTrain loss: 0.2297\tTest loss: 0.3333\tTest Accuracy: 32/40 (80%)\n",
      "Epoch: 405\tTrain loss: 0.2279\tTest loss: 0.3408\tTest Accuracy: 33/40 (82%)\n",
      "Epoch: 406\tTrain loss: 0.2246\tTest loss: 0.3253\tTest Accuracy: 33/40 (82%)\n",
      "Epoch: 407\tTrain loss: 0.2249\tTest loss: 0.3430\tTest Accuracy: 33/40 (82%)\n",
      "Epoch: 408\tTrain loss: 0.2407\tTest loss: 0.3229\tTest Accuracy: 33/40 (82%)\n",
      "Epoch: 409\tTrain loss: 0.2333\tTest loss: 0.3848\tTest Accuracy: 33/40 (82%)\n",
      "Epoch: 410\tTrain loss: 0.2803\tTest loss: 0.3593\tTest Accuracy: 32/40 (80%)\n",
      "Epoch: 411\tTrain loss: 0.2369\tTest loss: 0.3621\tTest Accuracy: 32/40 (80%)\n",
      "Epoch: 412\tTrain loss: 0.2489\tTest loss: 0.3810\tTest Accuracy: 33/40 (82%)\n",
      "Epoch: 413\tTrain loss: 0.2894\tTest loss: 0.3522\tTest Accuracy: 32/40 (80%)\n",
      "Epoch: 414\tTrain loss: 0.2414\tTest loss: 0.3375\tTest Accuracy: 33/40 (82%)\n",
      "Epoch: 415\tTrain loss: 0.2500\tTest loss: 0.3509\tTest Accuracy: 33/40 (82%)\n",
      "Epoch: 416\tTrain loss: 0.2521\tTest loss: 0.3334\tTest Accuracy: 34/40 (85%)\n",
      "Epoch: 417\tTrain loss: 0.2242\tTest loss: 0.3664\tTest Accuracy: 33/40 (82%)\n",
      "Epoch: 418\tTrain loss: 0.2389\tTest loss: 0.3332\tTest Accuracy: 33/40 (82%)\n",
      "Epoch: 419\tTrain loss: 0.2374\tTest loss: 0.3482\tTest Accuracy: 34/40 (85%)\n",
      "Epoch: 420\tTrain loss: 0.2571\tTest loss: 0.3577\tTest Accuracy: 32/40 (80%)\n",
      "Epoch: 421\tTrain loss: 0.2293\tTest loss: 0.3675\tTest Accuracy: 31/40 (78%)\n",
      "Epoch: 422\tTrain loss: 0.2345\tTest loss: 0.3637\tTest Accuracy: 32/40 (80%)\n",
      "Epoch: 423\tTrain loss: 0.2530\tTest loss: 0.3408\tTest Accuracy: 32/40 (80%)\n",
      "Epoch: 424\tTrain loss: 0.2253\tTest loss: 0.3471\tTest Accuracy: 32/40 (80%)\n",
      "Epoch: 425\tTrain loss: 0.2390\tTest loss: 0.3568\tTest Accuracy: 33/40 (82%)\n",
      "Epoch: 426\tTrain loss: 0.2698\tTest loss: 0.3384\tTest Accuracy: 33/40 (82%)\n",
      "Epoch: 427\tTrain loss: 0.2313\tTest loss: 0.3392\tTest Accuracy: 33/40 (82%)\n",
      "Epoch: 428\tTrain loss: 0.2455\tTest loss: 0.3452\tTest Accuracy: 32/40 (80%)\n",
      "Epoch: 429\tTrain loss: 0.2621\tTest loss: 0.3394\tTest Accuracy: 32/40 (80%)\n",
      "Epoch: 430\tTrain loss: 0.2284\tTest loss: 0.3384\tTest Accuracy: 33/40 (82%)\n",
      "Epoch: 431\tTrain loss: 0.2410\tTest loss: 0.3380\tTest Accuracy: 33/40 (82%)\n",
      "Epoch: 432\tTrain loss: 0.2445\tTest loss: 0.3280\tTest Accuracy: 34/40 (85%)\n",
      "Epoch: 433\tTrain loss: 0.2214\tTest loss: 0.3464\tTest Accuracy: 33/40 (82%)\n",
      "Epoch: 434\tTrain loss: 0.2273\tTest loss: 0.3304\tTest Accuracy: 33/40 (82%)\n",
      "Epoch: 435\tTrain loss: 0.2259\tTest loss: 0.3228\tTest Accuracy: 34/40 (85%)\n",
      "Epoch: 436\tTrain loss: 0.2196\tTest loss: 0.3271\tTest Accuracy: 33/40 (82%)\n",
      "Epoch: 437\tTrain loss: 0.2214\tTest loss: 0.3396\tTest Accuracy: 32/40 (80%)\n",
      "Epoch: 438\tTrain loss: 0.2264\tTest loss: 0.3246\tTest Accuracy: 33/40 (82%)\n",
      "Epoch: 439\tTrain loss: 0.2197\tTest loss: 0.3479\tTest Accuracy: 32/40 (80%)\n",
      "Epoch: 440\tTrain loss: 0.2264\tTest loss: 0.3230\tTest Accuracy: 33/40 (82%)\n",
      "Epoch: 441\tTrain loss: 0.2205\tTest loss: 0.3461\tTest Accuracy: 33/40 (82%)\n",
      "Epoch: 442\tTrain loss: 0.2291\tTest loss: 0.3211\tTest Accuracy: 34/40 (85%)\n",
      "Epoch: 443\tTrain loss: 0.2213\tTest loss: 0.3535\tTest Accuracy: 33/40 (82%)\n",
      "Epoch: 444\tTrain loss: 0.2413\tTest loss: 0.3232\tTest Accuracy: 33/40 (82%)\n",
      "Epoch: 445\tTrain loss: 0.2360\tTest loss: 0.3737\tTest Accuracy: 33/40 (82%)\n",
      "Epoch: 446\tTrain loss: 0.2865\tTest loss: 0.3545\tTest Accuracy: 32/40 (80%)\n",
      "Epoch: 447\tTrain loss: 0.2490\tTest loss: 0.3410\tTest Accuracy: 33/40 (82%)\n",
      "Epoch: 448\tTrain loss: 0.2527\tTest loss: 0.3557\tTest Accuracy: 32/40 (80%)\n",
      "Epoch: 449\tTrain loss: 0.2562\tTest loss: 0.3519\tTest Accuracy: 32/40 (80%)\n",
      "Epoch: 450\tTrain loss: 0.2240\tTest loss: 0.3404\tTest Accuracy: 33/40 (82%)\n",
      "Epoch: 451\tTrain loss: 0.2330\tTest loss: 0.3541\tTest Accuracy: 33/40 (82%)\n",
      "Epoch: 452\tTrain loss: 0.2704\tTest loss: 0.3305\tTest Accuracy: 34/40 (85%)\n",
      "Epoch: 453\tTrain loss: 0.2359\tTest loss: 0.3431\tTest Accuracy: 33/40 (82%)\n",
      "Epoch: 454\tTrain loss: 0.2429\tTest loss: 0.3562\tTest Accuracy: 32/40 (80%)\n",
      "Epoch: 455\tTrain loss: 0.2448\tTest loss: 0.3393\tTest Accuracy: 33/40 (82%)\n",
      "Epoch: 456\tTrain loss: 0.2186\tTest loss: 0.3467\tTest Accuracy: 33/40 (82%)\n",
      "Epoch: 457\tTrain loss: 0.2251\tTest loss: 0.3212\tTest Accuracy: 34/40 (85%)\n",
      "Epoch: 458\tTrain loss: 0.2293\tTest loss: 0.3456\tTest Accuracy: 33/40 (82%)\n",
      "Epoch: 459\tTrain loss: 0.2464\tTest loss: 0.3417\tTest Accuracy: 33/40 (82%)\n",
      "Epoch: 460\tTrain loss: 0.2263\tTest loss: 0.3358\tTest Accuracy: 33/40 (82%)\n",
      "Epoch: 461\tTrain loss: 0.2245\tTest loss: 0.3309\tTest Accuracy: 32/40 (80%)\n",
      "Epoch: 462\tTrain loss: 0.2224\tTest loss: 0.3391\tTest Accuracy: 32/40 (80%)\n",
      "Epoch: 463\tTrain loss: 0.2193\tTest loss: 0.3215\tTest Accuracy: 33/40 (82%)\n",
      "Epoch: 464\tTrain loss: 0.2189\tTest loss: 0.3330\tTest Accuracy: 33/40 (82%)\n",
      "Epoch: 465\tTrain loss: 0.2275\tTest loss: 0.3107\tTest Accuracy: 34/40 (85%)\n",
      "Epoch: 466\tTrain loss: 0.2186\tTest loss: 0.3562\tTest Accuracy: 33/40 (82%)\n",
      "Epoch: 467\tTrain loss: 0.2474\tTest loss: 0.3441\tTest Accuracy: 32/40 (80%)\n",
      "Epoch: 468\tTrain loss: 0.2287\tTest loss: 0.3308\tTest Accuracy: 33/40 (82%)\n",
      "Epoch: 469\tTrain loss: 0.2221\tTest loss: 0.3316\tTest Accuracy: 32/40 (80%)\n",
      "Epoch: 470\tTrain loss: 0.2213\tTest loss: 0.3312\tTest Accuracy: 33/40 (82%)\n",
      "Epoch: 471\tTrain loss: 0.2178\tTest loss: 0.3189\tTest Accuracy: 33/40 (82%)\n",
      "Epoch: 472\tTrain loss: 0.2189\tTest loss: 0.3291\tTest Accuracy: 33/40 (82%)\n",
      "Epoch: 473\tTrain loss: 0.2240\tTest loss: 0.3126\tTest Accuracy: 33/40 (82%)\n",
      "Epoch: 474\tTrain loss: 0.2164\tTest loss: 0.3486\tTest Accuracy: 32/40 (80%)\n",
      "Epoch: 475\tTrain loss: 0.2270\tTest loss: 0.3248\tTest Accuracy: 32/40 (80%)\n",
      "Epoch: 476\tTrain loss: 0.2182\tTest loss: 0.3486\tTest Accuracy: 33/40 (82%)\n",
      "Epoch: 477\tTrain loss: 0.2323\tTest loss: 0.3215\tTest Accuracy: 33/40 (82%)\n",
      "Epoch: 478\tTrain loss: 0.2302\tTest loss: 0.3716\tTest Accuracy: 33/40 (82%)\n",
      "Epoch: 479\tTrain loss: 0.2824\tTest loss: 0.3592\tTest Accuracy: 32/40 (80%)\n",
      "Epoch: 480\tTrain loss: 0.2504\tTest loss: 0.3414\tTest Accuracy: 33/40 (82%)\n",
      "Epoch: 481\tTrain loss: 0.2485\tTest loss: 0.3477\tTest Accuracy: 32/40 (80%)\n",
      "Epoch: 482\tTrain loss: 0.2447\tTest loss: 0.3488\tTest Accuracy: 33/40 (82%)\n",
      "Epoch: 483\tTrain loss: 0.2194\tTest loss: 0.3353\tTest Accuracy: 33/40 (82%)\n",
      "Epoch: 484\tTrain loss: 0.2201\tTest loss: 0.3475\tTest Accuracy: 34/40 (85%)\n",
      "Epoch: 485\tTrain loss: 0.2339\tTest loss: 0.3052\tTest Accuracy: 34/40 (85%)\n",
      "Epoch: 486\tTrain loss: 0.2212\tTest loss: 0.3676\tTest Accuracy: 33/40 (82%)\n",
      "Epoch: 487\tTrain loss: 0.2340\tTest loss: 0.3489\tTest Accuracy: 31/40 (78%)\n",
      "Epoch: 488\tTrain loss: 0.2235\tTest loss: 0.3629\tTest Accuracy: 32/40 (80%)\n",
      "Epoch: 489\tTrain loss: 0.2329\tTest loss: 0.3277\tTest Accuracy: 33/40 (82%)\n",
      "Epoch: 490\tTrain loss: 0.2307\tTest loss: 0.3727\tTest Accuracy: 33/40 (82%)\n",
      "Epoch: 491\tTrain loss: 0.2873\tTest loss: 0.3683\tTest Accuracy: 32/40 (80%)\n",
      "Epoch: 492\tTrain loss: 0.2536\tTest loss: 0.3416\tTest Accuracy: 33/40 (82%)\n",
      "Epoch: 493\tTrain loss: 0.2469\tTest loss: 0.3531\tTest Accuracy: 31/40 (78%)\n",
      "Epoch: 494\tTrain loss: 0.2489\tTest loss: 0.3771\tTest Accuracy: 33/40 (82%)\n",
      "Epoch: 495\tTrain loss: 0.2566\tTest loss: 0.3814\tTest Accuracy: 33/40 (82%)\n",
      "Epoch: 496\tTrain loss: 0.2413\tTest loss: 0.3462\tTest Accuracy: 32/40 (80%)\n",
      "Epoch: 497\tTrain loss: 0.2458\tTest loss: 0.3200\tTest Accuracy: 33/40 (82%)\n",
      "Epoch: 498\tTrain loss: 0.2530\tTest loss: 0.3357\tTest Accuracy: 33/40 (82%)\n",
      "Epoch: 499\tTrain loss: 0.2307\tTest loss: 0.3492\tTest Accuracy: 32/40 (80%)\n",
      "Epoch: 500\tTrain loss: 0.2361\tTest loss: 0.3405\tTest Accuracy: 32/40 (80%)\n"
     ]
    }
   ],
   "source": [
    "# number of iterations\n",
    "epochs = 500\n",
    "# step width in gradient-based optimization\n",
    "learning_rate = 0.01\n",
    "# initialize our model with random parameters\n",
    "model = Net()\n",
    "# choose an optimizer\n",
    "optimizer = optim.Adam(model.parameters(), lr = learning_rate)\n",
    "# choose a loss function\n",
    "loss_function = F.nll_loss\n",
    "\n",
    "# initialize lists for plotting\n",
    "learning_curve_train = []\n",
    "learning_curve_test = []\n",
    "\n",
    "for epoch in range(1, epochs+1):\n",
    "    \n",
    "    # temporary variables to track model convergence\n",
    "    loss_train = []\n",
    "    loss_test = []\n",
    "    correct = 0\n",
    "    \n",
    "    # Training Loop\n",
    "    for data, target in train_dataloader:\n",
    "        # set gradient to zero\n",
    "        optimizer.zero_grad()\n",
    "        # predict with current model\n",
    "        output = model(data)\n",
    "        # compute loss of predictions and target values\n",
    "        loss = loss_function(output, target)\n",
    "        # Backpropagation of errors gives gradients\n",
    "        loss.backward()\n",
    "        # Update weights with approximate gradient\n",
    "        optimizer.step()\n",
    "        # Store loss\n",
    "        loss_train.append(loss.item())\n",
    "\n",
    "    # Stop tracking gradients for evaluation phase\n",
    "    with torch.no_grad():\n",
    "        # Test Loop\n",
    "        for data, target in test_dataloader:\n",
    "            # predict with current model\n",
    "            output = model(data)\n",
    "            # compute loss\n",
    "            loss = loss_function(output, target)\n",
    "            # store loss\n",
    "            loss_test.append(loss.item())\n",
    "            # transform output into predicted class\n",
    "            pred = output.argmax(dim=1, keepdim=True)\n",
    "            # compare predictions and labels and store \n",
    "            # number of correct predictions\n",
    "            correct += pred.eq(target.view_as(pred)).sum().item()\n",
    "\n",
    "    # Store loss at each iteration for plotting\n",
    "    learning_curve_train.append(np.mean(loss_train))\n",
    "    learning_curve_test.append(np.mean(loss_test))\n",
    "    \n",
    "    # Print to Stdout\n",
    "    print('Epoch: {}\\tTrain loss: {:.4f}\\tTest loss: {:.4f}\\tTest Accuracy: {}/{} ({:.0f}%)'.format(\n",
    "        epoch, learning_curve_train[-1], learning_curve_test[-1], \n",
    "        correct, len(test_dataloader.dataset),\n",
    "        100. * correct / len(test_dataloader.dataset)))"
   ]
  },
  {
   "cell_type": "markdown",
   "metadata": {},
   "source": [
    "Visualize the learning curves of training and test data by plotting the loss at each epoch against the number of epochs."
   ]
  },
  {
   "cell_type": "code",
   "execution_count": 15,
   "metadata": {},
   "outputs": [
    {
     "data": {
      "image/png": "[encoded data removed]",
      "text/plain": [
       "<Figure size 432x288 with 1 Axes>"
      ]
     },
     "metadata": {
      "needs_background": "light"
     },
     "output_type": "display_data"
    }
   ],
   "source": [
    "plt.plot(range(epochs),learning_curve_train, label='Train')\n",
    "plt.plot(range(epochs),learning_curve_test,label='Test', color = \"g\")\n",
    "plt.xlabel('Epochs')\n",
    "plt.ylabel('Test Loss')\n",
    "plt.legend()\n",
    "plt.tight_layout()"
   ]
  },
  {
   "cell_type": "markdown",
   "metadata": {},
   "source": [
    "With your final model, predict the classes of the training and testing set one last time and visualize the corresponding confusion matrices. To do so, remember that the output of your model consists of a likelihood\n",
    "for each class. Use the `argmax()` function to get the predicted class\n",
    "label. To transform your torch tensors to python data you can use the\n",
    "`.item()`-method. You can then use `sklearn.metrics.confusion_matrix()` to obtain\n",
    "the confusion matrices, and `plt.imshow` to visualize them. "
   ]
  },
  {
   "cell_type": "code",
   "execution_count": 43,
   "metadata": {},
   "outputs": [
    {
     "data": {
      "image/png": "[encoded data removed]",
      "text/plain": [
       "<Figure size 720x360 with 4 Axes>"
      ]
     },
     "metadata": {
      "needs_background": "light"
     },
     "output_type": "display_data"
    },
    {
     "data": {
      "text/plain": [
       "<Figure size 432x288 with 0 Axes>"
      ]
     },
     "metadata": {},
     "output_type": "display_data"
    }
   ],
   "source": [
    "from sklearn.metrics import confusion_matrix\n",
    "\n",
    "\n",
    "train_dataloader = DataLoader(dataset_train, batch_size=1) #Batch size should be 1, if it is e.g. 64, then we have a tensor with 64 elements.\n",
    "test_dataloader = DataLoader(dataset_test, batch_size=1)\n",
    "\n",
    "plt.figure(figsize=(10,5))\n",
    "plt.subplot(1,2,1)\n",
    "true = []\n",
    "pred = []\n",
    "for data, target in train_dataloader:\n",
    "    output = model(data)\n",
    "    true.append(target.item())\n",
    "    pred.append(torch.argmax(output).item())\n",
    "\n",
    "plt.imshow(confusion_matrix(true,pred))\n",
    "plt.colorbar()\n",
    "plt.title(\"Train\")\n",
    "\n",
    "\n",
    "plt.subplot(1,2,2)\n",
    "true2 = []\n",
    "pred2 = []\n",
    "for data, target in test_dataloader:\n",
    "    output = model(data)\n",
    "    true2.append(target.item())\n",
    "    pred2.append(torch.argmax(output).item())\n",
    "\n",
    "plt.imshow(confusion_matrix(true2,pred2))\n",
    "plt.colorbar()\n",
    "plt.title(\"Test\")\n",
    "plt.show()\n",
    "plt.tight_layout()"
   ]
  },
  {
   "cell_type": "markdown",
   "metadata": {},
   "source": [
    "#### The change of color to yellow on (also around) the diagonal means that the prediction is getting better. "
   ]
  }
 ],
 "metadata": {
  "kernelspec": {
   "display_name": "Python 3",
   "language": "python",
   "name": "python3"
  },
  "language_info": {
   "codemirror_mode": {
    "name": "ipython",
    "version": 3
   },
   "file_extension": ".py",
   "mimetype": "text/x-python",
   "name": "python",
   "nbconvert_exporter": "python",
   "pygments_lexer": "ipython3",
   "version": "3.9.1"
  }
 },
 "nbformat": 4,
 "nbformat_minor": 4
}
